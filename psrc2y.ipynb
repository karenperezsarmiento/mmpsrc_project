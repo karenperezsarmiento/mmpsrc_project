{
 "cells": [
  {
   "cell_type": "code",
   "execution_count": null,
   "id": "f4693ab6",
   "metadata": {},
   "outputs": [],
   "source": [
    "from astropy.table import QTable\n",
    "import pylab as pl\n",
    "pl.ion()\n",
    "import numpy as np\n",
    "from scipy import interpolate\n",
    "from scipy import stats\n"
   ]
  }
 ],
 "metadata": {
  "kernelspec": {
   "display_name": "Python 3 (ipykernel)",
   "language": "python",
   "name": "python3"
  },
  "language_info": {
   "codemirror_mode": {
    "name": "ipython",
    "version": 3
   },
   "file_extension": ".py",
   "mimetype": "text/x-python",
   "name": "python",
   "nbconvert_exporter": "python",
   "pygments_lexer": "ipython3",
   "version": "3.8.11"
  }
 },
 "nbformat": 4,
 "nbformat_minor": 5
}
