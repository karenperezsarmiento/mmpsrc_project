{
 "cells": [
  {
   "cell_type": "code",
   "execution_count": 2,
   "id": "d8e9db2a",
   "metadata": {},
   "outputs": [],
   "source": [
    "from astropy.table import QTable\n",
    "import pylab as pl\n",
    "pl.ion()\n",
    "import numpy as np\n",
    "from scipy import interpolate\n",
    "from scipy import stats\n",
    "import matplotlib.pyplot as plt\n",
    "import pandas as pd\n",
    "diag_plot = True\n",
    "from astropy.io import fits\n",
    "import re"
   ]
  },
  {
   "cell_type": "code",
   "execution_count": 3,
   "id": "e4ac8212",
   "metadata": {},
   "outputs": [],
   "source": [
    "####read in data files........\n",
    "talpha=QTable.read('../sim_fits/alphas_1mJy_central_source.fits')\n",
    "tSync=QTable.read('../sim_fits/central_source_alpha=-0.7.fits') #plot 5a, blue line Simon's paper\n",
    "tDust=QTable.read('../sim_fits/central_source_alpha=3.5.fits') #plot 5a, red line Simon's paper\n",
    "tOffset_Sync=QTable.read('../sim_fits/offset_1mJy_alpha=-0.7.fits') #plot 5b Simon's paper\n",
    "tOffset_Dust=QTable.read('../sim_fits/offset_1mJy_alpha=3.5.fits')#plot 5b Simon's paper\n",
    "o0p1=QTable.read('../sim_fits/offset_0.2-mJy_alpha=0.1.fits') \n",
    "o0p7=QTable.read('../sim_fits/offset_0.2-mJy_alpha=-0.7.fits')\n",
    "o3p5=QTable.read('../sim_fits/offset_0.2-mJy_alpha=3.5.fits')"
   ]
  },
  {
   "cell_type": "code",
   "execution_count": 4,
   "id": "b16ee675",
   "metadata": {},
   "outputs": [],
   "source": [
    "#############################################################################\n",
    "#Bin simulations\n",
    "\n",
    "d3p5=np.unique(o3p5['offset_arcsec']) #get unique distances from center of cluster \n",
    "r3p5=np.zeros(len(d3p5))\n",
    "i3p5=np.zeros(len(d3p5))\n",
    "for i in range(len(d3p5)):\n",
    "    p=np.where((o3p5['offset_arcsec'] == d3p5[i])) #filter table by this distance\n",
    "    r3p5[i]=np.median(o3p5['srcinj_fixed_y_c'][p]-o3p5['fixed_y_c'][p]) #return median delta y\n",
    "    i3p5[i]=stats.iqr((o3p5['srcinj_fixed_y_c'][p]-o3p5['fixed_y_c'][p]),rng=(16.,84.)) / 2.   #return interquartile range\n",
    "i3p5n = i3p5 / np.abs(np.min(r3p5))\n",
    "r3p5n = r3p5 / np.abs(np.min(r3p5))\n",
    "\n",
    "d0p7=np.unique(o0p7['offset_arcsec'])\n",
    "r0p7=np.zeros(len(d0p7))\n",
    "i0p7=np.zeros(len(d0p7))\n",
    "for i in range(len(d0p7)):\n",
    "    p=np.where((o0p7['offset_arcsec'] == d0p7[i]))\n",
    "    r0p7[i]=np.median(o0p7['srcinj_fixed_y_c'][p]-o0p7['fixed_y_c'][p])\n",
    "    i0p7[i]=stats.iqr((o0p7['srcinj_fixed_y_c'][p]-o0p7['fixed_y_c'][p]),rng=(16.,84.)) / 2.\n",
    "i0p7n = i0p7 / np.abs(np.min(r0p7))\n",
    "r0p7n = r0p7 / np.abs(np.min(r0p7))\n",
    "\n",
    "d0p1=np.unique(o0p1['offset_arcsec'])\n",
    "r0p1=np.zeros(len(d0p1))\n",
    "i0p1=np.zeros(len(d0p1))\n",
    "for i in range(len(d0p1)):\n",
    "    p=np.where((o0p1['offset_arcsec'] == d0p1[i]))\n",
    "    r0p1[i]=np.median(o0p1['srcinj_fixed_y_c'][p]-o0p1['fixed_y_c'][p])\n",
    "    i0p1[i]=stats.iqr((o0p1['srcinj_fixed_y_c'][p]-o0p1['fixed_y_c'][p]),rng=(16.,84.)) / 2.\n",
    "i0p1n = i0p1 / np.abs(np.min(r0p1))\n",
    "r0p1n = r0p1 / np.abs(np.min(r0p1))"
   ]
  },
  {
   "cell_type": "code",
   "execution_count": 5,
   "id": "1964533f",
   "metadata": {},
   "outputs": [
    {
     "data": {
      "image/png": "[encoded data removed]",
      "text/plain": [
       "<Figure size 307.44x230.4 with 1 Axes>"
      ]
     },
     "metadata": {
      "needs_background": "light"
     },
     "output_type": "display_data"
    }
   ],
   "source": [
    "#fit to Mats simulations\n",
    "#note very similar results for all spectral indexes *assuming* delta y_c does not get too large.\n",
    "N_r=interpolate.CubicSpline(d0p7,-r0p7n)\n",
    "dr=np.arange(-300,310,10)\n",
    "diag_plot = True\n",
    "if diag_plot:\n",
    "    fig=pl.figure(figsize=(4.27,3.2))#pl.figure()\n",
    "    #pl.errorbar(offs,respn,yerr=iqrn,label='alpha=-0.7',color='b',marker='o')\n",
    "    #pl.errorbar(offs3p5,respn3p5,yerr=iqrn3p5,label='alpha=3.5',color='r',marker='o')\n",
    "    pl.errorbar(d0p7,-r0p7n,yerr=i0p7n,label='alpha=-0.7',color='k',marker='o',linestyle='')\n",
    "    pl.plot(dr,N_r(dr),c='k')\n",
    "    #pl.errorbar(d3p5,r3p5n,yerr=i3p5n,label='alpha=3.5',color='r',marker='o')\n",
    "    #pl.errorbar(d0p1,r0p1n,yerr=i0p1n,label='alpha=0.1',color='g',marker='o')\n",
    "    #pl.legend()\n",
    "    pl.title(r'Effects of decentering of sources',fontsize='medium')\n",
    "    pl.xlabel(r'Distance from cluster center / arcsec')\n",
    "    pl.ylabel(r'Normalized response : $N(r)$')\n",
    "    fig.tight_layout()"
   ]
  },
  {
   "cell_type": "code",
   "execution_count": 6,
   "id": "a6880f81",
   "metadata": {},
   "outputs": [
    {
     "data": {
      "image/png": "[encoded data removed]",
      "text/plain": [
       "<Figure size 307.44x230.4 with 1 Axes>"
      ]
     },
     "metadata": {
      "needs_background": "light"
     },
     "output_type": "display_data"
    }
   ],
   "source": [
    "####alphas####\n",
    "diag_plot = True\n",
    "\n",
    "delta0=-0.08752586 #reference everything to 1mJy at alpha=0.7\n",
    "\n",
    "alpha=np.unique(talpha['alpha'])\n",
    "A=np.zeros(len(alpha))\n",
    "Aiqr=np.zeros(len(alpha))\n",
    "for i in range(len(alpha)):\n",
    "    p=np.where((talpha['alpha'] == alpha[i]))\n",
    "    A[i]=np.median(talpha['srcinj_fixed_y_c'][p]-talpha['fixed_y_c'][p])\n",
    "    Aiqr[i]=stats.iqr((talpha['srcinj_fixed_y_c'][p]-talpha['fixed_y_c'][p]),rng=(16.,84.)) / 2.\n",
    "A_alpha=interpolate.CubicSpline(alpha,A/delta0)\n",
    "x=np.arange(-1.5,4.1,0.1)\n",
    "if diag_plot:\n",
    "    fig=pl.figure(figsize=(4.27,3.2))#pl.figure()\n",
    "    pl.errorbar(alpha,A/delta0,yerr=Aiqr/delta0,marker='o',linestyle='',color='b')\n",
    "    pl.plot(x,A_alpha(x),c='b')\n",
    "    pl.title(r'$\\Delta \\tilde{y}_0$ with spectral index',fontsize='medium')\n",
    "    pl.xlabel(r'spectral index ($\\alpha$)')\n",
    "    pl.ylabel(r'Normalized $\\Delta \\tilde{y}_0$ :  $A(\\alpha)$')\n",
    "    pl.text(-1,5,r'$A(\\alpha) = 1.0$ for $\\alpha=-0.7$')\n",
    "#fig.tight_layout()"
   ]
  },
  {
   "cell_type": "markdown",
   "id": "6591c787",
   "metadata": {},
   "source": [
    "# Applying this to M2 psrcs"
   ]
  },
  {
   "cell_type": "code",
   "execution_count": 7,
   "id": "c477c4f6",
   "metadata": {},
   "outputs": [],
   "source": [
    "f_psrc = pd.read_csv(\"../psrc_lists/final_cat_snr_5_3arcmin_snr_7.csv\")\n",
    "f_matched = pd.read_csv(\"../psrc_lists/final_matched_snr_5_3arcmin_snr_7.csv\")"
   ]
  },
  {
   "cell_type": "code",
   "execution_count": 8,
   "id": "7c1bc693",
   "metadata": {},
   "outputs": [],
   "source": [
    "delta_y0 = -8.76e-6\n",
    "fluxes_mJy_all = np.array(list(f_psrc[\"int_flux_Jy\"]))*1000 #mJy (Peak flux or integrated flux)\n",
    "distances_all = np.array(list(f_psrc[\"dist_center_radians\"]))*(180/np.pi) * 3600 #arcsecond\n",
    "Del_y_all = fluxes_mJy_all * delta_y0 * N_r(distances_all) * A_alpha(-0.7)\n",
    "\n",
    "fluxes_mJy_m = np.array(list(f_matched[\"int_flux_Jy\"]))*1000 #mJy (Peak flux or integrated flux)\n",
    "distances_m = np.array(list(f_matched[\"dist_center_radians\"]))*(180/np.pi) * 3600 #arcsecond\n",
    "Del_y_m = fluxes_mJy_m * delta_y0 * N_r(distances_m) * A_alpha(-0.7)"
   ]
  },
  {
   "cell_type": "code",
   "execution_count": 9,
   "id": "24713116",
   "metadata": {
    "scrolled": true
   },
   "outputs": [],
   "source": [
    "f_matched[\"Del_y_m\"] = Del_y_m\n",
    "f_psrc[\"Del_y_m\"] = Del_y_all"
   ]
  },
  {
   "cell_type": "code",
   "execution_count": 10,
   "id": "5009e586",
   "metadata": {},
   "outputs": [],
   "source": [
    "out_m = f_matched[[\"cluster\",\"amp_fit\",\"Del_y_m\"]]\n",
    "out_all = f_psrc[[\"cluster\",\"amp_fit\",\"Del_y_m\"]]"
   ]
  },
  {
   "cell_type": "code",
   "execution_count": 11,
   "id": "094c698f",
   "metadata": {},
   "outputs": [
    {
     "name": "stderr",
     "output_type": "stream",
     "text": [
      "/var/folders/0f/q7p8w6jd62s3p62pwb9s_cbw0000gn/T/ipykernel_22272/991913560.py:8: SettingWithCopyWarning: \n",
      "A value is trying to be set on a copy of a slice from a DataFrame.\n",
      "Try using .loc[row_indexer,col_indexer] = value instead\n",
      "\n",
      "See the caveats in the documentation: https://pandas.pydata.org/pandas-docs/stable/user_guide/indexing.html#returning-a-view-versus-a-copy\n",
      "  out_m[\"y_c\"] = y_c_arr_m*1e-4\n"
     ]
    }
   ],
   "source": [
    "DR5_hdu = fits.open(\"../DR5_cluster-catalog_v1.1.fits\")\n",
    "DR5 = DR5_hdu[1].data\n",
    "y_c_arr_m = []\n",
    "for i in out_m[\"cluster\"]:\n",
    "    name = re.sub(\"ACT-CLJ\",\"ACT-CL J\",i)\n",
    "    y_c = DR5[\"y_c\"][DR5[\"name\"]==name]\n",
    "    y_c_arr_m = np.append(y_c_arr_m,y_c)\n",
    "out_m[\"y_c\"] = y_c_arr_m*1e-4"
   ]
  },
  {
   "cell_type": "code",
   "execution_count": 12,
   "id": "f1bd51ec",
   "metadata": {},
   "outputs": [
    {
     "name": "stderr",
     "output_type": "stream",
     "text": [
      "/var/folders/0f/q7p8w6jd62s3p62pwb9s_cbw0000gn/T/ipykernel_22272/4074318084.py:8: SettingWithCopyWarning: \n",
      "A value is trying to be set on a copy of a slice from a DataFrame.\n",
      "Try using .loc[row_indexer,col_indexer] = value instead\n",
      "\n",
      "See the caveats in the documentation: https://pandas.pydata.org/pandas-docs/stable/user_guide/indexing.html#returning-a-view-versus-a-copy\n",
      "  out_all[\"y_c\"] = y_c_arr_all*1e-4\n"
     ]
    }
   ],
   "source": [
    "DR5_hdu = fits.open(\"../DR5_cluster-catalog_v1.1.fits\")\n",
    "DR5 = DR5_hdu[1].data\n",
    "y_c_arr_all = []\n",
    "for i in out_all[\"cluster\"]:\n",
    "    name = re.sub(\"ACT-CLJ\",\"ACT-CL J\",i)\n",
    "    y_c = DR5[\"y_c\"][DR5[\"name\"]==name]\n",
    "    y_c_arr_all = np.append(y_c_arr_all,y_c)\n",
    "out_all[\"y_c\"] = y_c_arr_all*1e-4"
   ]
  },
  {
   "cell_type": "code",
   "execution_count": 13,
   "id": "7dd2681e",
   "metadata": {},
   "outputs": [
    {
     "data": {
      "text/plain": [
       "(array([1., 0., 1., 0., 2., 5., 6., 3., 5., 6.]),\n",
       " array([-2.26917922e-05, -1.93860295e-05, -1.60802668e-05, -1.27745041e-05,\n",
       "        -9.46874136e-06, -6.16297866e-06, -2.85721596e-06,  4.48546742e-07,\n",
       "         3.75430944e-06,  7.06007214e-06,  1.03658348e-05]),\n",
       " <BarContainer object of 10 artists>)"
      ]
     },
     "execution_count": 13,
     "metadata": {},
     "output_type": "execute_result"
    },
    {
     "data": {
      "image/png": "[encoded data removed]",
      "text/plain": [
       "<Figure size 432x288 with 1 Axes>"
      ]
     },
     "metadata": {
      "needs_background": "light"
     },
     "output_type": "display_data"
    }
   ],
   "source": [
    "plt.hist(f_matched[\"Del_y_m\"],alpha=0.5)\n",
    "plt.hist(f_psrc[\"Del_y_m\"],alpha=0.5)"
   ]
  },
  {
   "cell_type": "code",
   "execution_count": 14,
   "id": "03a599c1",
   "metadata": {
    "scrolled": true
   },
   "outputs": [
    {
     "data": {
      "image/png": "[encoded data removed]",
      "text/plain": [
       "<Figure size 432x288 with 1 Axes>"
      ]
     },
     "metadata": {
      "needs_background": "light"
     },
     "output_type": "display_data"
    }
   ],
   "source": [
    "hist,bins = np.histogram(out_all[\"Del_y_m\"]/out_all[\"y_c\"],bins=np.arange(-0.3,0.7,0.05))\n",
    "plt.step(bins[:-1],hist/243,where=\"post\")\n",
    "plt.xlabel(\"$\\delta y_{c}/y_{c}$\")\n",
    "plt.ylabel(\"Count\")\n",
    "plt.savefig(\"del_y_by_y_hist.jpeg\")"
   ]
  },
  {
   "cell_type": "code",
   "execution_count": 15,
   "id": "401da2c3",
   "metadata": {},
   "outputs": [
    {
     "data": {
      "image/png": "[encoded data removed]",
      "text/plain": [
       "<Figure size 432x288 with 1 Axes>"
      ]
     },
     "metadata": {
      "needs_background": "light"
     },
     "output_type": "display_data"
    }
   ],
   "source": [
    "plt.hist(Del_y_all,bins=30,label=\"Blind search\")\n",
    "plt.hist(Del_y_m,bins=30,label=\"M2 sources with VLASS matches\")\n",
    "plt.legend()\n",
    "plt.savefig(\"hist_Del_y_c.jpeg\")"
   ]
  },
  {
   "cell_type": "code",
   "execution_count": null,
   "id": "c3797138",
   "metadata": {},
   "outputs": [],
   "source": []
  }
 ],
 "metadata": {
  "kernelspec": {
   "display_name": "Python 3 (ipykernel)",
   "language": "python",
   "name": "python3"
  },
  "language_info": {
   "codemirror_mode": {
    "name": "ipython",
    "version": 3
   },
   "file_extension": ".py",
   "mimetype": "text/x-python",
   "name": "python",
   "nbconvert_exporter": "python",
   "pygments_lexer": "ipython3",
   "version": "3.8.11"
  }
 },
 "nbformat": 4,
 "nbformat_minor": 5
}
