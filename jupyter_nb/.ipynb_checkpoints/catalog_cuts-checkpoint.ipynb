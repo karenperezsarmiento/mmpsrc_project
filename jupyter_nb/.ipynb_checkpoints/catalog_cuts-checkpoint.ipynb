{
 "cells": [
  {
   "cell_type": "code",
   "execution_count": 305,
   "id": "cd300288",
   "metadata": {},
   "outputs": [],
   "source": [
    "import numpy as np\n",
    "import matplotlib.pyplot as plt\n",
    "import pandas as pd"
   ]
  },
  {
   "cell_type": "code",
   "execution_count": 329,
   "id": "1cc91918",
   "metadata": {},
   "outputs": [],
   "source": [
    "theta_1 = 2.0\n",
    "theta_2 = 6.0\n",
    "inner_rad = (3./60)*np.pi/180\n",
    "snr_lower = 5.0\n",
    "snr_higher = 7.0\n",
    "noise_cut = 0.00065"
   ]
  },
  {
   "cell_type": "code",
   "execution_count": 347,
   "id": "5762f510",
   "metadata": {},
   "outputs": [],
   "source": [
    "full = pd.read_csv(\"../psrc_lists/uncleaned_psrcs_sigma__2aspcmsubqm2_fitel_0f09-to-35f5Hz_qc_0p6rr_M_PdoCals_dt20_snr_iter1_4.0sigma.csv\")\n",
    "matched = pd.read_csv(\"../psrc_lists/matched_9arcsec_1and2_best1_first.csv\")"
   ]
  },
  {
   "cell_type": "code",
   "execution_count": 348,
   "id": "6afa4ce9",
   "metadata": {},
   "outputs": [],
   "source": [
    "def cut_cat(df,theta_1,theta_2,inner_rad,snr_lower,snr_higher,noise_cut):\n",
    "    df = df.loc[(df[\"theta_1\"]==theta_1)&(df[\"theta_2\"]==theta_2)&(df[\"noise_ps\"]<noise_cut)]\n",
    "    inner = df.loc[(df[\"dist_center_radians\"]<inner_rad)&(df[\"amp_snr\"]>=snr_lower)]\n",
    "    outer = df.loc[(df[\"dist_center_radians\"]>=inner_rad)&(df[\"amp_snr\"]>=snr_higher)]\n",
    "    final = pd.concat([inner,outer])\n",
    "    return final"
   ]
  },
  {
   "cell_type": "code",
   "execution_count": 349,
   "id": "f3cdbc71",
   "metadata": {},
   "outputs": [],
   "source": [
    "final = cut_cat(full,theta_1,theta_2,inner_rad,snr_lower,snr_higher,noise_cut)\n",
    "final_matched = cut_cat(matched,theta_1,theta_2,inner_rad,snr_lower,snr_higher,noise_cut)"
   ]
  },
  {
   "cell_type": "code",
   "execution_count": 353,
   "id": "ad53214b",
   "metadata": {},
   "outputs": [],
   "source": [
    "final.to_csv(\"final_cat_snr_5_3arcmin_snr_7.csv\")"
   ]
  },
  {
   "cell_type": "code",
   "execution_count": 354,
   "id": "6e485cc4",
   "metadata": {},
   "outputs": [],
   "source": [
    "final_matched.to_csv(\"final_matched_snr_5_3arcmin_snr_7.csv\")"
   ]
  },
  {
   "cell_type": "code",
   "execution_count": 351,
   "id": "024ae692",
   "metadata": {},
   "outputs": [],
   "source": [
    "snr_cut = np.array([5.0,6.0,7.0,8.0,9.0])\n",
    "count_full = []\n",
    "count_m = []\n",
    "for i in snr_cut:\n",
    "    df = cut_cat(full,theta_1,theta_2,inner_rad,snr_lower,i,noise_cut)\n",
    "    count_full = np.append(count_full,len(df))\n",
    "    df_m = cut_cat(matched,theta_1,theta_2,inner_rad,snr_lower,i,noise_cut)\n",
    "    count_m = np.append(count_m,len(df_m))\n",
    "    \n",
    "    fig = plt.figure()\n",
    "    plt.hist(df[\"int_flux_Jy\"]*1000,label=\"all, snr >=\"+str(i),bins=np.arange(0,12))\n",
    "    plt.hist(df_m[\"int_flux_Jy\"]*1000,label=\"matched, snr>=\"+str(i),bins=np.arange(0,12))\n",
    "    plt.xlabel(\"Integrated flux (mJy)\")\n",
    "    plt.savefig(\"../analysis_plots/cat_cut_snr>\"+str(i)+\".jpeg\")\n",
    "    plt.close(fig)\n",
    "    \n",
    "    fig = plt.figure()\n",
    "    plt.hist(df[\"noise_ps\"]*1000,label=\"all, snr >=\"+str(i))\n",
    "    plt.hist(df_m[\"noise_ps\"]*1000,label=\"matched, snr>=\"+str(i))\n",
    "    plt.xlabel(\"Noise at point source\")\n",
    "    plt.savefig(\"../analysis_plots/cat_cut_noise_snr>\"+str(i)+\".jpeg\")\n",
    "    plt.close(fig)"
   ]
  },
  {
   "cell_type": "code",
   "execution_count": 352,
   "id": "fefb78a1",
   "metadata": {},
   "outputs": [
    {
     "data": {
      "text/plain": [
       "[<matplotlib.lines.Line2D at 0x7f84ca17b880>]"
      ]
     },
     "execution_count": 352,
     "metadata": {},
     "output_type": "execute_result"
    },
    {
     "data": {
      "image/png": "[encoded data removed]",
      "text/plain": [
       "<Figure size 432x288 with 1 Axes>"
      ]
     },
     "metadata": {
      "needs_background": "light"
     },
     "output_type": "display_data"
    }
   ],
   "source": [
    "plt.scatter(snr_cut,count_full/count_m)\n",
    "plt.plot(snr_cut,np.ones(len(snr_cut)))"
   ]
  },
  {
   "cell_type": "code",
   "execution_count": 355,
   "id": "436e75c3",
   "metadata": {
    "scrolled": true
   },
   "outputs": [
    {
     "data": {
      "text/plain": [
       "<matplotlib.legend.Legend at 0x7f84ca2c4820>"
      ]
     },
     "execution_count": 355,
     "metadata": {},
     "output_type": "execute_result"
    },
    {
     "data": {
      "image/png": "[encoded data removed]",
      "text/plain": [
       "<Figure size 432x288 with 1 Axes>"
      ]
     },
     "metadata": {
      "needs_background": "light"
     },
     "output_type": "display_data"
    }
   ],
   "source": [
    "plt.scatter(snr_cut,count_m,label=\"count matched\")\n",
    "plt.scatter(snr_cut,count_full,label=\"count full\")\n",
    "plt.plot()\n",
    "plt.legend()"
   ]
  },
  {
   "cell_type": "code",
   "execution_count": null,
   "id": "799c7a38",
   "metadata": {},
   "outputs": [],
   "source": []
  }
 ],
 "metadata": {
  "kernelspec": {
   "display_name": "Python 3 (ipykernel)",
   "language": "python",
   "name": "python3"
  },
  "language_info": {
   "codemirror_mode": {
    "name": "ipython",
    "version": 3
   },
   "file_extension": ".py",
   "mimetype": "text/x-python",
   "name": "python",
   "nbconvert_exporter": "python",
   "pygments_lexer": "ipython3",
   "version": "3.8.11"
  }
 },
 "nbformat": 4,
 "nbformat_minor": 5
}
