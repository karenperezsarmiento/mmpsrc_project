{
 "cells": [
  {
   "cell_type": "code",
   "execution_count": 17,
   "id": "efe96985",
   "metadata": {},
   "outputs": [],
   "source": [
    "import numpy as np\n",
    "import pandas as pd\n",
    "import matplotlib.pyplot as plt"
   ]
  },
  {
   "cell_type": "code",
   "execution_count": null,
   "id": "a43a0f05",
   "metadata": {},
   "outputs": [],
   "source": []
  },
  {
   "cell_type": "code",
   "execution_count": 137,
   "id": "9ee4326d",
   "metadata": {},
   "outputs": [],
   "source": [
    "injected_found = pd.read_csv(\"../psrc_lists/injectedi_2_10_psrcs__2aspcmsubqm2_fitel_0f09-to-35f5Hz_qc_0p6rr_M_PdoCals_dt20_snr_iter1_5.0sigma.csv\")\n",
    "injected_found2 = pd.read_csv(\"../psrc_lists/injectedi_2_10_psrcs__2aspcmsubqm2_fitel_0f09-to-35f5Hz_qc_0p6rr_M_PdoCals_dt20_snr_iter1_3.0sigma.csv\")\n",
    "injected = pd.read_csv(\"../psrc_lists/fake_pnt_amplitudes.txt\",names=[\"Cluster\",\"amp(jy)\",\"X_loc(pixels)\",\"y_loc(pixels)\"],header=None,delimiter=r\"\\s+\")\n",
    "real = pd.read_csv(\"../psrc_lists/uncleaned_psrcs_sigma__2aspcmsubqm2_fitel_0f09-to-35f5Hz_qc_0p6rr_M_PdoCals_dt20_snr_iter1_4.0sigma.csv\")\n",
    "real = real.loc[(real[\"theta_1\"]==2.0)&(real[\"theta_2\"]==6.0)]"
   ]
  },
  {
   "cell_type": "code",
   "execution_count": 70,
   "id": "f6bb0be2",
   "metadata": {},
   "outputs": [],
   "source": [
    "final = pd.read_csv(\"../psrc_lists/final_cat_snr_5_3arcmin_snr_7.csv\")"
   ]
  },
  {
   "cell_type": "code",
   "execution_count": 138,
   "id": "cf4b827f",
   "metadata": {},
   "outputs": [
    {
     "data": {
      "text/plain": [
       "295"
      ]
     },
     "execution_count": 138,
     "metadata": {},
     "output_type": "execute_result"
    }
   ],
   "source": [
    "len(injected_found)"
   ]
  },
  {
   "cell_type": "code",
   "execution_count": 139,
   "id": "04d4fab6",
   "metadata": {},
   "outputs": [
    {
     "data": {
      "text/plain": [
       "351"
      ]
     },
     "execution_count": 139,
     "metadata": {},
     "output_type": "execute_result"
    }
   ],
   "source": [
    "len(injected)"
   ]
  },
  {
   "cell_type": "code",
   "execution_count": 63,
   "id": "c30b1e32",
   "metadata": {},
   "outputs": [
    {
     "data": {
      "text/html": [
       "<div>\n",
       "<style scoped>\n",
       "    .dataframe tbody tr th:only-of-type {\n",
       "        vertical-align: middle;\n",
       "    }\n",
       "\n",
       "    .dataframe tbody tr th {\n",
       "        vertical-align: top;\n",
       "    }\n",
       "\n",
       "    .dataframe thead th {\n",
       "        text-align: right;\n",
       "    }\n",
       "</style>\n",
       "<table border=\"1\" class=\"dataframe\">\n",
       "  <thead>\n",
       "    <tr style=\"text-align: right;\">\n",
       "      <th></th>\n",
       "      <th>cluster</th>\n",
       "      <th>x</th>\n",
       "      <th>y</th>\n",
       "      <th>sigma_dog</th>\n",
       "      <th>theta_1</th>\n",
       "      <th>theta_2</th>\n",
       "      <th>ra_deg</th>\n",
       "      <th>dec_deg</th>\n",
       "      <th>dist_center_radians</th>\n",
       "      <th>amp_fit</th>\n",
       "      <th>...</th>\n",
       "      <th>sigma</th>\n",
       "      <th>int_flux_Jy</th>\n",
       "      <th>amp_snr</th>\n",
       "      <th>x_snr</th>\n",
       "      <th>y_snr</th>\n",
       "      <th>sigma_snr</th>\n",
       "      <th>snr</th>\n",
       "      <th>masked</th>\n",
       "      <th>noise_ps</th>\n",
       "      <th>hits_ps</th>\n",
       "    </tr>\n",
       "  </thead>\n",
       "  <tbody>\n",
       "    <tr>\n",
       "      <th>0</th>\n",
       "      <td>ACT-CLJ0200.3+0019</td>\n",
       "      <td>168.0</td>\n",
       "      <td>169.0</td>\n",
       "      <td>3.2</td>\n",
       "      <td>2.0</td>\n",
       "      <td>6.0</td>\n",
       "      <td>30.087342</td>\n",
       "      <td>0.327579</td>\n",
       "      <td>0.000089</td>\n",
       "      <td>0.013327</td>\n",
       "      <td>...</td>\n",
       "      <td>3.0</td>\n",
       "      <td>0.013926</td>\n",
       "      <td>66.873112</td>\n",
       "      <td>168.462331</td>\n",
       "      <td>168.721360</td>\n",
       "      <td>0.362385</td>\n",
       "      <td>49.248188</td>\n",
       "      <td>0.0</td>\n",
       "      <td>0.000122</td>\n",
       "      <td>3812276.75</td>\n",
       "    </tr>\n",
       "    <tr>\n",
       "      <th>1</th>\n",
       "      <td>ACT-CLJ0200.3+0019</td>\n",
       "      <td>181.0</td>\n",
       "      <td>179.0</td>\n",
       "      <td>3.2</td>\n",
       "      <td>2.0</td>\n",
       "      <td>6.0</td>\n",
       "      <td>30.080120</td>\n",
       "      <td>0.333135</td>\n",
       "      <td>0.000247</td>\n",
       "      <td>0.001313</td>\n",
       "      <td>...</td>\n",
       "      <td>3.0</td>\n",
       "      <td>0.001372</td>\n",
       "      <td>11.883610</td>\n",
       "      <td>179.930340</td>\n",
       "      <td>178.754975</td>\n",
       "      <td>-0.391572</td>\n",
       "      <td>7.799314</td>\n",
       "      <td>0.0</td>\n",
       "      <td>0.000125</td>\n",
       "      <td>3742779.50</td>\n",
       "    </tr>\n",
       "  </tbody>\n",
       "</table>\n",
       "<p>2 rows × 22 columns</p>\n",
       "</div>"
      ],
      "text/plain": [
       "              cluster      x      y  sigma_dog  theta_1  theta_2     ra_deg  \\\n",
       "0  ACT-CLJ0200.3+0019  168.0  169.0        3.2      2.0      6.0  30.087342   \n",
       "1  ACT-CLJ0200.3+0019  181.0  179.0        3.2      2.0      6.0  30.080120   \n",
       "\n",
       "    dec_deg  dist_center_radians   amp_fit  ...  sigma  int_flux_Jy  \\\n",
       "0  0.327579             0.000089  0.013327  ...    3.0     0.013926   \n",
       "1  0.333135             0.000247  0.001313  ...    3.0     0.001372   \n",
       "\n",
       "     amp_snr       x_snr       y_snr  sigma_snr        snr  masked  noise_ps  \\\n",
       "0  66.873112  168.462331  168.721360   0.362385  49.248188     0.0  0.000122   \n",
       "1  11.883610  179.930340  178.754975  -0.391572   7.799314     0.0  0.000125   \n",
       "\n",
       "      hits_ps  \n",
       "0  3812276.75  \n",
       "1  3742779.50  \n",
       "\n",
       "[2 rows x 22 columns]"
      ]
     },
     "execution_count": 63,
     "metadata": {},
     "output_type": "execute_result"
    }
   ],
   "source": [
    "injected_found.loc[injected_found[\"cluster\"]==\"ACT-CLJ0200.3+0019\"]"
   ]
  },
  {
   "cell_type": "code",
   "execution_count": 64,
   "id": "43aa848f",
   "metadata": {},
   "outputs": [
    {
     "data": {
      "text/html": [
       "<div>\n",
       "<style scoped>\n",
       "    .dataframe tbody tr th:only-of-type {\n",
       "        vertical-align: middle;\n",
       "    }\n",
       "\n",
       "    .dataframe tbody tr th {\n",
       "        vertical-align: top;\n",
       "    }\n",
       "\n",
       "    .dataframe thead th {\n",
       "        text-align: right;\n",
       "    }\n",
       "</style>\n",
       "<table border=\"1\" class=\"dataframe\">\n",
       "  <thead>\n",
       "    <tr style=\"text-align: right;\">\n",
       "      <th></th>\n",
       "      <th>cluster</th>\n",
       "      <th>x</th>\n",
       "      <th>y</th>\n",
       "      <th>sigma_dog</th>\n",
       "      <th>theta_1</th>\n",
       "      <th>theta_2</th>\n",
       "      <th>ra_deg</th>\n",
       "      <th>dec_deg</th>\n",
       "      <th>dist_center_radians</th>\n",
       "      <th>amp_fit</th>\n",
       "      <th>...</th>\n",
       "      <th>Unnamed: 0</th>\n",
       "      <th>Source</th>\n",
       "      <th>rms_map</th>\n",
       "      <th>rms_snr</th>\n",
       "      <th>avg_snr</th>\n",
       "      <th>ntail</th>\n",
       "      <th>amp_fit_snr</th>\n",
       "      <th>mean_fit_snr</th>\n",
       "      <th>std_fit_snr</th>\n",
       "      <th>red_type</th>\n",
       "    </tr>\n",
       "  </thead>\n",
       "  <tbody>\n",
       "    <tr>\n",
       "      <th>2</th>\n",
       "      <td>ACT-CLJ0200.3+0019</td>\n",
       "      <td>258.0</td>\n",
       "      <td>170.0</td>\n",
       "      <td>3.20</td>\n",
       "      <td>2.0</td>\n",
       "      <td>6.0</td>\n",
       "      <td>30.037093</td>\n",
       "      <td>0.328150</td>\n",
       "      <td>0.000934</td>\n",
       "      <td>0.002436</td>\n",
       "      <td>...</td>\n",
       "      <td>0</td>\n",
       "      <td>ACT-CLJ0200.3+0019</td>\n",
       "      <td>0.000134</td>\n",
       "      <td>1.0082</td>\n",
       "      <td>0.114192</td>\n",
       "      <td>0.0</td>\n",
       "      <td>3219.083286</td>\n",
       "      <td>-0.004205</td>\n",
       "      <td>1.043256</td>\n",
       "      <td>20.0</td>\n",
       "    </tr>\n",
       "    <tr>\n",
       "      <th>3</th>\n",
       "      <td>ACT-CLJ0200.3+0019</td>\n",
       "      <td>223.0</td>\n",
       "      <td>124.0</td>\n",
       "      <td>5.12</td>\n",
       "      <td>2.0</td>\n",
       "      <td>6.0</td>\n",
       "      <td>30.056538</td>\n",
       "      <td>0.302595</td>\n",
       "      <td>0.000697</td>\n",
       "      <td>0.000659</td>\n",
       "      <td>...</td>\n",
       "      <td>0</td>\n",
       "      <td>ACT-CLJ0200.3+0019</td>\n",
       "      <td>0.000134</td>\n",
       "      <td>1.0082</td>\n",
       "      <td>0.114192</td>\n",
       "      <td>0.0</td>\n",
       "      <td>3219.083286</td>\n",
       "      <td>-0.004205</td>\n",
       "      <td>1.043256</td>\n",
       "      <td>20.0</td>\n",
       "    </tr>\n",
       "    <tr>\n",
       "      <th>4</th>\n",
       "      <td>ACT-CLJ0200.3+0019</td>\n",
       "      <td>118.0</td>\n",
       "      <td>262.0</td>\n",
       "      <td>5.12</td>\n",
       "      <td>2.0</td>\n",
       "      <td>6.0</td>\n",
       "      <td>30.114872</td>\n",
       "      <td>0.379261</td>\n",
       "      <td>0.001059</td>\n",
       "      <td>-0.000640</td>\n",
       "      <td>...</td>\n",
       "      <td>0</td>\n",
       "      <td>ACT-CLJ0200.3+0019</td>\n",
       "      <td>0.000134</td>\n",
       "      <td>1.0082</td>\n",
       "      <td>0.114192</td>\n",
       "      <td>0.0</td>\n",
       "      <td>3219.083286</td>\n",
       "      <td>-0.004205</td>\n",
       "      <td>1.043256</td>\n",
       "      <td>20.0</td>\n",
       "    </tr>\n",
       "  </tbody>\n",
       "</table>\n",
       "<p>3 rows × 32 columns</p>\n",
       "</div>"
      ],
      "text/plain": [
       "              cluster      x      y  sigma_dog  theta_1  theta_2     ra_deg  \\\n",
       "2  ACT-CLJ0200.3+0019  258.0  170.0       3.20      2.0      6.0  30.037093   \n",
       "3  ACT-CLJ0200.3+0019  223.0  124.0       5.12      2.0      6.0  30.056538   \n",
       "4  ACT-CLJ0200.3+0019  118.0  262.0       5.12      2.0      6.0  30.114872   \n",
       "\n",
       "    dec_deg  dist_center_radians   amp_fit  ...  Unnamed: 0  \\\n",
       "2  0.328150             0.000934  0.002436  ...           0   \n",
       "3  0.302595             0.000697  0.000659  ...           0   \n",
       "4  0.379261             0.001059 -0.000640  ...           0   \n",
       "\n",
       "               Source   rms_map  rms_snr   avg_snr  ntail  amp_fit_snr  \\\n",
       "2  ACT-CLJ0200.3+0019  0.000134   1.0082  0.114192    0.0  3219.083286   \n",
       "3  ACT-CLJ0200.3+0019  0.000134   1.0082  0.114192    0.0  3219.083286   \n",
       "4  ACT-CLJ0200.3+0019  0.000134   1.0082  0.114192    0.0  3219.083286   \n",
       "\n",
       "   mean_fit_snr  std_fit_snr  red_type  \n",
       "2     -0.004205     1.043256      20.0  \n",
       "3     -0.004205     1.043256      20.0  \n",
       "4     -0.004205     1.043256      20.0  \n",
       "\n",
       "[3 rows x 32 columns]"
      ]
     },
     "execution_count": 64,
     "metadata": {},
     "output_type": "execute_result"
    }
   ],
   "source": [
    "real.loc[real[\"cluster\"]==\"ACT-CLJ0200.3+0019\"]"
   ]
  },
  {
   "cell_type": "code",
   "execution_count": 76,
   "id": "8a835416",
   "metadata": {},
   "outputs": [],
   "source": [
    "m = injected_found.merge(real,how=\"left\",left_on=[\"cluster\",\"x\",\"y\"],right_on=[\"cluster\",\"x\",\"y\"],indicator=True)"
   ]
  },
  {
   "cell_type": "code",
   "execution_count": 86,
   "id": "ae05593a",
   "metadata": {},
   "outputs": [],
   "source": [
    "m = m.loc[m[\"_merge\"]==\"left_only\"]"
   ]
  },
  {
   "cell_type": "code",
   "execution_count": 129,
   "id": "1eedd351",
   "metadata": {},
   "outputs": [],
   "source": [
    "bright_injected = injected.loc[injected[\"amp(jy)\"]>0.005]"
   ]
  },
  {
   "cell_type": "code",
   "execution_count": 136,
   "id": "7b0b6883",
   "metadata": {
    "scrolled": true
   },
   "outputs": [
    {
     "data": {
      "text/plain": [
       "<matplotlib.collections.PathCollection at 0x7fe96ba09220>"
      ]
     },
     "execution_count": 136,
     "metadata": {},
     "output_type": "execute_result"
    },
    {
     "data": {
      "image/png": "[encoded data removed]",
      "text/plain": [
       "<Figure size 432x288 with 1 Axes>"
      ]
     },
     "metadata": {
      "needs_background": "light"
     },
     "output_type": "display_data"
    }
   ],
   "source": [
    "#plt.scatter(final[\"x\"],final[\"y\"],c=\"g\")\n",
    "\n",
    "#plt.scatter(injected[\"X_loc(pixels)\"],injected[\"y_loc(pixels)\"],c=\"b\",alpha=0.5)\n",
    "plt.scatter(bright_injected[\"X_loc(pixels)\"],bright_injected[\"y_loc(pixels)\"],c=\"b\",alpha=0.5)\n",
    "plt.scatter(m[\"x\"],m[\"y\"],c=\"r\",alpha=0.5)\n",
    "#plt.scatter(real[\"x\"],real[\"y\"],c=\"g\")\n",
    "#plt.xlim(140,324)\n",
    "#plt.ylim(140,324)"
   ]
  },
  {
   "cell_type": "code",
   "execution_count": 98,
   "id": "536c44fc",
   "metadata": {
    "scrolled": true
   },
   "outputs": [],
   "source": [
    "injected[\"y\"] = 324-injected[\"X_loc(pixels)\"]\n",
    "injected[\"x\"] = 324-injected[\"y_loc(pixels)\"]"
   ]
  },
  {
   "cell_type": "code",
   "execution_count": 117,
   "id": "716436d3",
   "metadata": {},
   "outputs": [
    {
     "data": {
      "text/plain": [
       "0      0.030\n",
       "1      0.007\n",
       "2      0.003\n",
       "3      0.001\n",
       "4      0.030\n",
       "       ...  \n",
       "346    0.003\n",
       "347    0.001\n",
       "348    0.030\n",
       "349    0.007\n",
       "350    0.003\n",
       "Name: amp(jy), Length: 351, dtype: float64"
      ]
     },
     "execution_count": 117,
     "metadata": {},
     "output_type": "execute_result"
    }
   ],
   "source": [
    "injected[\"amp(jy)\"]"
   ]
  },
  {
   "cell_type": "code",
   "execution_count": 124,
   "id": "154a68ae",
   "metadata": {},
   "outputs": [
    {
     "data": {
      "text/plain": [
       "0      3.0\n",
       "1      3.0\n",
       "2      3.0\n",
       "3      3.0\n",
       "4      3.0\n",
       "      ... \n",
       "468    3.0\n",
       "469    3.0\n",
       "470    3.0\n",
       "471    3.0\n",
       "472    3.0\n",
       "Name: sigma, Length: 473, dtype: float64"
      ]
     },
     "execution_count": 124,
     "metadata": {},
     "output_type": "execute_result"
    }
   ],
   "source": [
    "injected_found[\"sigma\"]"
   ]
  },
  {
   "cell_type": "code",
   "execution_count": 121,
   "id": "b205cc64",
   "metadata": {},
   "outputs": [
    {
     "data": {
      "text/plain": [
       "2       3.20\n",
       "3       5.12\n",
       "4       5.12\n",
       "29      5.12\n",
       "30      5.12\n",
       "        ... \n",
       "5174    5.12\n",
       "5175    5.12\n",
       "5176    3.20\n",
       "5177    5.12\n",
       "5178    5.12\n",
       "Name: sigma_dog, Length: 467, dtype: float64"
      ]
     },
     "execution_count": 121,
     "metadata": {},
     "output_type": "execute_result"
    }
   ],
   "source": [
    "real[\"sigma_dog\"]"
   ]
  },
  {
   "cell_type": "code",
   "execution_count": 50,
   "id": "5159ee39",
   "metadata": {},
   "outputs": [
    {
     "data": {
      "text/plain": [
       "(array([  2.,  13., 261., 118.,   7.,  42.,  28.,   0.,   0.,   2.]),\n",
       " array([-0.01794886, -0.01046464, -0.00298041,  0.00450381,  0.01198803,\n",
       "         0.01947226,  0.02695648,  0.0344407 ,  0.04192493,  0.04940915,\n",
       "         0.05689338]),\n",
       " <BarContainer object of 10 artists>)"
      ]
     },
     "execution_count": 50,
     "metadata": {},
     "output_type": "execute_result"
    },
    {
     "data": {
      "image/png": "[encoded data removed]",
      "text/plain": [
       "<Figure size 432x288 with 1 Axes>"
      ]
     },
     "metadata": {
      "needs_background": "light"
     },
     "output_type": "display_data"
    }
   ],
   "source": [
    "plt.hist(injected_found[\"int_flux_Jy\"])"
   ]
  },
  {
   "cell_type": "code",
   "execution_count": null,
   "id": "b2111d30",
   "metadata": {},
   "outputs": [],
   "source": []
  }
 ],
 "metadata": {
  "kernelspec": {
   "display_name": "Python 3 (ipykernel)",
   "language": "python",
   "name": "python3"
  },
  "language_info": {
   "codemirror_mode": {
    "name": "ipython",
    "version": 3
   },
   "file_extension": ".py",
   "mimetype": "text/x-python",
   "name": "python",
   "nbconvert_exporter": "python",
   "pygments_lexer": "ipython3",
   "version": "3.8.11"
  }
 },
 "nbformat": 4,
 "nbformat_minor": 5
}
