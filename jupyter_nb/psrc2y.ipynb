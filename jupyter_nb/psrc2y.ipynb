{
 "cells": [
  {
   "cell_type": "code",
   "execution_count": 2,
   "id": "d8e9db2a",
   "metadata": {},
   "outputs": [],
   "source": [
    "from astropy.table import QTable\n",
    "import pylab as pl\n",
    "pl.ion()\n",
    "import numpy as np\n",
    "from scipy import interpolate\n",
    "from scipy import stats\n",
    "import matplotlib.pyplot as plt\n",
    "import pandas as pd\n",
    "diag_plot = True"
   ]
  },
  {
   "cell_type": "code",
   "execution_count": 3,
   "id": "e4ac8212",
   "metadata": {},
   "outputs": [],
   "source": [
    "####read in data files........\n",
    "talpha=QTable.read('../sim_fits/alphas_1mJy_central_source.fits')\n",
    "tSync=QTable.read('../sim_fits/central_source_alpha=-0.7.fits') #plot 5a, blue line Simon's paper\n",
    "tDust=QTable.read('../sim_fits/central_source_alpha=3.5.fits') #plot 5a, red line Simon's paper\n",
    "tOffset_Sync=QTable.read('../sim_fits/offset_1mJy_alpha=-0.7.fits') #plot 5b Simon's paper\n",
    "tOffset_Dust=QTable.read('../sim_fits/offset_1mJy_alpha=3.5.fits')#plot 5b Simon's paper\n",
    "o0p1=QTable.read('../sim_fits/offset_0.2-mJy_alpha=0.1.fits') \n",
    "o0p7=QTable.read('../sim_fits/offset_0.2-mJy_alpha=-0.7.fits')\n",
    "o3p5=QTable.read('../sim_fits/offset_0.2-mJy_alpha=3.5.fits')"
   ]
  },
  {
   "cell_type": "code",
   "execution_count": 4,
   "id": "b16ee675",
   "metadata": {},
   "outputs": [],
   "source": [
    "#############################################################################\n",
    "#Bin simulations\n",
    "\n",
    "d3p5=np.unique(o3p5['offset_arcsec']) #get unique distances from center of cluster \n",
    "r3p5=np.zeros(len(d3p5))\n",
    "i3p5=np.zeros(len(d3p5))\n",
    "for i in range(len(d3p5)):\n",
    "    p=np.where((o3p5['offset_arcsec'] == d3p5[i])) #filter table by this distance\n",
    "    r3p5[i]=np.median(o3p5['srcinj_fixed_y_c'][p]-o3p5['fixed_y_c'][p]) #return median delta y\n",
    "    i3p5[i]=stats.iqr((o3p5['srcinj_fixed_y_c'][p]-o3p5['fixed_y_c'][p]),rng=(16.,84.)) / 2.   #return interquartile range\n",
    "i3p5n = i3p5 / np.abs(np.min(r3p5))\n",
    "r3p5n = r3p5 / np.abs(np.min(r3p5))\n",
    "\n",
    "d0p7=np.unique(o0p7['offset_arcsec'])\n",
    "r0p7=np.zeros(len(d0p7))\n",
    "i0p7=np.zeros(len(d0p7))\n",
    "for i in range(len(d0p7)):\n",
    "    p=np.where((o0p7['offset_arcsec'] == d0p7[i]))\n",
    "    r0p7[i]=np.median(o0p7['srcinj_fixed_y_c'][p]-o0p7['fixed_y_c'][p])\n",
    "    i0p7[i]=stats.iqr((o0p7['srcinj_fixed_y_c'][p]-o0p7['fixed_y_c'][p]),rng=(16.,84.)) / 2.\n",
    "i0p7n = i0p7 / np.abs(np.min(r0p7))\n",
    "r0p7n = r0p7 / np.abs(np.min(r0p7))\n",
    "\n",
    "d0p1=np.unique(o0p1['offset_arcsec'])\n",
    "r0p1=np.zeros(len(d0p1))\n",
    "i0p1=np.zeros(len(d0p1))\n",
    "for i in range(len(d0p1)):\n",
    "    p=np.where((o0p1['offset_arcsec'] == d0p1[i]))\n",
    "    r0p1[i]=np.median(o0p1['srcinj_fixed_y_c'][p]-o0p1['fixed_y_c'][p])\n",
    "    i0p1[i]=stats.iqr((o0p1['srcinj_fixed_y_c'][p]-o0p1['fixed_y_c'][p]),rng=(16.,84.)) / 2.\n",
    "i0p1n = i0p1 / np.abs(np.min(r0p1))\n",
    "r0p1n = r0p1 / np.abs(np.min(r0p1))"
   ]
  },
  {
   "cell_type": "code",
   "execution_count": 5,
   "id": "1964533f",
   "metadata": {},
   "outputs": [
    {
     "data": {
      "image/png": "[encoded data removed]",
      "text/plain": [
       "<Figure size 307.44x230.4 with 1 Axes>"
      ]
     },
     "metadata": {
      "needs_background": "light"
     },
     "output_type": "display_data"
    }
   ],
   "source": [
    "#fit to Mats simulations\n",
    "#note very similar results for all spectral indexes *assuming* delta y_c does not get too large.\n",
    "N_r=interpolate.CubicSpline(d0p7,-r0p7n)\n",
    "dr=np.arange(-300,310,10)\n",
    "diag_plot = True\n",
    "if diag_plot:\n",
    "    fig=pl.figure(figsize=(4.27,3.2))#pl.figure()\n",
    "    #pl.errorbar(offs,respn,yerr=iqrn,label='alpha=-0.7',color='b',marker='o')\n",
    "    #pl.errorbar(offs3p5,respn3p5,yerr=iqrn3p5,label='alpha=3.5',color='r',marker='o')\n",
    "    pl.errorbar(d0p7,-r0p7n,yerr=i0p7n,label='alpha=-0.7',color='k',marker='o',linestyle='')\n",
    "    pl.plot(dr,N_r(dr),c='k')\n",
    "    #pl.errorbar(d3p5,r3p5n,yerr=i3p5n,label='alpha=3.5',color='r',marker='o')\n",
    "    #pl.errorbar(d0p1,r0p1n,yerr=i0p1n,label='alpha=0.1',color='g',marker='o')\n",
    "    #pl.legend()\n",
    "    pl.title(r'Effects of decentering of sources',fontsize='medium')\n",
    "    pl.xlabel(r'Distance from cluster center / arcsec')\n",
    "    pl.ylabel(r'Normalized response : $N(r)$')\n",
    "    fig.tight_layout()"
   ]
  },
  {
   "cell_type": "code",
   "execution_count": 6,
   "id": "a6880f81",
   "metadata": {},
   "outputs": [
    {
     "data": {
      "image/png": "[encoded data removed]",
      "text/plain": [
       "<Figure size 307.44x230.4 with 1 Axes>"
      ]
     },
     "metadata": {
      "needs_background": "light"
     },
     "output_type": "display_data"
    }
   ],
   "source": [
    "####alphas####\n",
    "diag_plot = True\n",
    "\n",
    "delta0=-0.08756e-4 #reference everything to 1mJy at alpha=0.7\n",
    "\n",
    "alpha=np.unique(talpha['alpha'])\n",
    "A=np.zeros(len(alpha))\n",
    "Aiqr=np.zeros(len(alpha))\n",
    "for i in range(len(alpha)):\n",
    "    p=np.where((talpha['alpha'] == alpha[i]))\n",
    "    A[i]=np.median(talpha['srcinj_fixed_y_c'][p]-talpha['fixed_y_c'][p])\n",
    "    Aiqr[i]=stats.iqr((talpha['srcinj_fixed_y_c'][p]-talpha['fixed_y_c'][p]),rng=(16.,84.)) / 2.\n",
    "A_alpha=interpolate.CubicSpline(alpha,A/delta0)\n",
    "x=np.arange(-1.5,4.1,0.1)\n",
    "if diag_plot:\n",
    "    fig=pl.figure(figsize=(4.27,3.2))#pl.figure()\n",
    "    pl.errorbar(alpha,A/delta0,yerr=Aiqr/delta0,marker='o',linestyle='',color='b')\n",
    "    pl.plot(x,A_alpha(x),c='b')\n",
    "    pl.title(r'$\\Delta \\tilde{y}_0$ with spectral index',fontsize='medium')\n",
    "    pl.xlabel(r'spectral index ($\\alpha$)')\n",
    "    pl.ylabel(r'Normalized $\\Delta \\tilde{y}_0$ :  $A(\\alpha)$')\n",
    "    pl.text(-1,5,r'$A(\\alpha) = 1.0$ for $\\alpha=-0.7$')\n",
    "#fig.tight_layout()"
   ]
  },
  {
   "cell_type": "markdown",
   "id": "6591c787",
   "metadata": {},
   "source": [
    "# Applying this to M2 psrcs"
   ]
  },
  {
   "cell_type": "code",
   "execution_count": 7,
   "id": "c477c4f6",
   "metadata": {},
   "outputs": [],
   "source": [
    "psrc = pd.read_csv(\"../psrc_lists/uncleaned_psrcs_sigma__2aspcmsubqm2_fitel_0f09-to-35f5Hz_qc_0p6rr_M_PdoCals_dt20_snr_iter1_4.0sigma.csv\")\n",
    "theta_1 = 3.0\n",
    "theta_2 = 5.0\n",
    "f_psrc = psrc.loc[(psrc[\"theta_1\"]==theta_1)&(psrc[\"theta_2\"]==theta_2)&(psrc[\"amp_snr\"]>4.)]\n",
    "\n",
    "matched = pd.read_csv(\"../psrc_lists/matched_12arcsec_1and2_best1_vlass.csv\")\n",
    "f_matched = matched.loc[(matched[\"theta_1\"]==theta_1)&(matched[\"theta_2\"]==theta_2)&(matched[\"amp_snr\"]>4.0)]"
   ]
  },
  {
   "cell_type": "code",
   "execution_count": 8,
   "id": "7c1bc693",
   "metadata": {},
   "outputs": [],
   "source": [
    "delta_y0 = -8.76e10-6\n",
    "fluxes_mJy_all = np.array(list(f_psrc[\"amp_fit\"]))*1000 #mJy (Peak flux or integrated flux)\n",
    "distances_all = np.array(list(f_psrc[\"dist_center_radians\"]))*180/np.pi * 3600 #arcsecond\n",
    "Del_y_all = fluxes_mJy_all * delta_y0 * N_r(distances_all) * A_alpha(-0.7)\n",
    "\n",
    "fluxes_mJy_m = np.array(list(f_matched[\"amp_fit\"]))*1000 #mJy (Peak flux or integrated flux)\n",
    "distances_m = np.array(list(f_matched[\"dist_center_radians\"]))*180/np.pi * 3600 #arcsecond\n",
    "Del_y_m = fluxes_mJy_m * delta_y0 * N_r(distances_m) * A_alpha(-0.7)"
   ]
  },
  {
   "cell_type": "code",
   "execution_count": 9,
   "id": "24713116",
   "metadata": {},
   "outputs": [
    {
     "name": "stderr",
     "output_type": "stream",
     "text": [
      "/var/folders/0f/q7p8w6jd62s3p62pwb9s_cbw0000gn/T/ipykernel_40223/1301067742.py:1: SettingWithCopyWarning: \n",
      "A value is trying to be set on a copy of a slice from a DataFrame.\n",
      "Try using .loc[row_indexer,col_indexer] = value instead\n",
      "\n",
      "See the caveats in the documentation: https://pandas.pydata.org/pandas-docs/stable/user_guide/indexing.html#returning-a-view-versus-a-copy\n",
      "  f_matched[\"Del_y_m\"] = Del_y_m\n",
      "/var/folders/0f/q7p8w6jd62s3p62pwb9s_cbw0000gn/T/ipykernel_40223/1301067742.py:2: SettingWithCopyWarning: \n",
      "A value is trying to be set on a copy of a slice from a DataFrame.\n",
      "Try using .loc[row_indexer,col_indexer] = value instead\n",
      "\n",
      "See the caveats in the documentation: https://pandas.pydata.org/pandas-docs/stable/user_guide/indexing.html#returning-a-view-versus-a-copy\n",
      "  f_psrc[\"Del_y_m\"] = Del_y_all\n"
     ]
    }
   ],
   "source": [
    "f_matched[\"Del_y_m\"] = Del_y_m\n",
    "f_psrc[\"Del_y_m\"] = Del_y_all"
   ]
  },
  {
   "cell_type": "code",
   "execution_count": 10,
   "id": "5009e586",
   "metadata": {},
   "outputs": [],
   "source": [
    "out = f_matched[[\"cluster\",\"amp_fit\",\"Del_y_m\"]]"
   ]
  },
  {
   "cell_type": "code",
   "execution_count": 11,
   "id": "7dd2681e",
   "metadata": {},
   "outputs": [
    {
     "data": {
      "text/plain": [
       "(array([1., 1., 3., 2., 2., 2., 1., 9., 2., 3.]),\n",
       " array([-1.11116733e+15, -9.34870570e+14, -7.58573810e+14, -5.82277050e+14,\n",
       "        -4.05980290e+14, -2.29683531e+14, -5.33867708e+13,  1.22909989e+14,\n",
       "         2.99206749e+14,  4.75503508e+14,  6.51800268e+14]),\n",
       " <BarContainer object of 10 artists>)"
      ]
     },
     "execution_count": 11,
     "metadata": {},
     "output_type": "execute_result"
    },
    {
     "data": {
      "image/png": "[encoded data removed]",
      "text/plain": [
       "<Figure size 432x288 with 1 Axes>"
      ]
     },
     "metadata": {
      "needs_background": "light"
     },
     "output_type": "display_data"
    }
   ],
   "source": [
    "plt.hist(f_matched[\"Del_y_m\"])"
   ]
  },
  {
   "cell_type": "code",
   "execution_count": 12,
   "id": "29cd3e4a",
   "metadata": {},
   "outputs": [],
   "source": [
    "out.to_csv(\"del_y_per_cluster_only_matched_sources.csv\")"
   ]
  },
  {
   "cell_type": "code",
   "execution_count": 13,
   "id": "2e0fff93",
   "metadata": {},
   "outputs": [
    {
     "data": {
      "text/html": [
       "<div>\n",
       "<style scoped>\n",
       "    .dataframe tbody tr th:only-of-type {\n",
       "        vertical-align: middle;\n",
       "    }\n",
       "\n",
       "    .dataframe tbody tr th {\n",
       "        vertical-align: top;\n",
       "    }\n",
       "\n",
       "    .dataframe thead th {\n",
       "        text-align: right;\n",
       "    }\n",
       "</style>\n",
       "<table border=\"1\" class=\"dataframe\">\n",
       "  <thead>\n",
       "    <tr style=\"text-align: right;\">\n",
       "      <th></th>\n",
       "      <th>cluster</th>\n",
       "      <th>amp_fit</th>\n",
       "      <th>Del_y_m</th>\n",
       "    </tr>\n",
       "  </thead>\n",
       "  <tbody>\n",
       "    <tr>\n",
       "      <th>5</th>\n",
       "      <td>ACT-CLJ0200.3+0019</td>\n",
       "      <td>0.001795</td>\n",
       "      <td>2.509092e+14</td>\n",
       "    </tr>\n",
       "    <tr>\n",
       "      <th>21</th>\n",
       "      <td>ACT-CLJ0201.6-0211</td>\n",
       "      <td>0.000929</td>\n",
       "      <td>-2.984714e+14</td>\n",
       "    </tr>\n",
       "    <tr>\n",
       "      <th>22</th>\n",
       "      <td>ACT-CLJ0201.6-0211</td>\n",
       "      <td>0.000731</td>\n",
       "      <td>-6.061032e+14</td>\n",
       "    </tr>\n",
       "    <tr>\n",
       "      <th>45</th>\n",
       "      <td>ACT-CLJ0204.5+0321</td>\n",
       "      <td>0.004346</td>\n",
       "      <td>6.518003e+14</td>\n",
       "    </tr>\n",
       "    <tr>\n",
       "      <th>70</th>\n",
       "      <td>ACT-CLJ0211.1-0453</td>\n",
       "      <td>0.001201</td>\n",
       "      <td>1.937285e+14</td>\n",
       "    </tr>\n",
       "    <tr>\n",
       "      <th>107</th>\n",
       "      <td>ACT-CLJ0220.9-0332</td>\n",
       "      <td>0.002076</td>\n",
       "      <td>1.608472e+14</td>\n",
       "    </tr>\n",
       "    <tr>\n",
       "      <th>127</th>\n",
       "      <td>ACT-CLJ0229.6-0336</td>\n",
       "      <td>0.002153</td>\n",
       "      <td>3.667078e+13</td>\n",
       "    </tr>\n",
       "    <tr>\n",
       "      <th>161</th>\n",
       "      <td>ACT-CLJ0246.4+0429</td>\n",
       "      <td>0.000599</td>\n",
       "      <td>-1.219633e+14</td>\n",
       "    </tr>\n",
       "    <tr>\n",
       "      <th>176</th>\n",
       "      <td>ACT-CLJ0248.0-0331</td>\n",
       "      <td>0.001438</td>\n",
       "      <td>-1.111167e+15</td>\n",
       "    </tr>\n",
       "    <tr>\n",
       "      <th>191</th>\n",
       "      <td>ACT-CLJ0248.3-0337</td>\n",
       "      <td>0.003984</td>\n",
       "      <td>5.790325e+14</td>\n",
       "    </tr>\n",
       "    <tr>\n",
       "      <th>206</th>\n",
       "      <td>ACT-CLJ0839.5-0150</td>\n",
       "      <td>0.003422</td>\n",
       "      <td>5.347906e+14</td>\n",
       "    </tr>\n",
       "    <tr>\n",
       "      <th>220</th>\n",
       "      <td>ACT-CLJ0856.5+0143</td>\n",
       "      <td>0.003653</td>\n",
       "      <td>2.771509e+14</td>\n",
       "    </tr>\n",
       "    <tr>\n",
       "      <th>235</th>\n",
       "      <td>ACT-CLJ0901.5+0301</td>\n",
       "      <td>0.003214</td>\n",
       "      <td>4.641127e+14</td>\n",
       "    </tr>\n",
       "    <tr>\n",
       "      <th>250</th>\n",
       "      <td>ACT-CLJ0905.6+0434</td>\n",
       "      <td>0.003246</td>\n",
       "      <td>-8.491627e+14</td>\n",
       "    </tr>\n",
       "    <tr>\n",
       "      <th>263</th>\n",
       "      <td>ACT-CLJ0914.7+0011</td>\n",
       "      <td>0.002761</td>\n",
       "      <td>2.237665e+14</td>\n",
       "    </tr>\n",
       "    <tr>\n",
       "      <th>285</th>\n",
       "      <td>ACT-CLJ0918.7+0211</td>\n",
       "      <td>0.002651</td>\n",
       "      <td>3.282449e+14</td>\n",
       "    </tr>\n",
       "    <tr>\n",
       "      <th>299</th>\n",
       "      <td>ACT-CLJ0922.1-0027</td>\n",
       "      <td>0.000615</td>\n",
       "      <td>-5.775031e+13</td>\n",
       "    </tr>\n",
       "    <tr>\n",
       "      <th>311</th>\n",
       "      <td>ACT-CLJ1005.5+0235</td>\n",
       "      <td>0.000727</td>\n",
       "      <td>-6.072620e+14</td>\n",
       "    </tr>\n",
       "    <tr>\n",
       "      <th>325</th>\n",
       "      <td>ACT-CLJ1117.9-0211</td>\n",
       "      <td>0.000829</td>\n",
       "      <td>-7.199109e+14</td>\n",
       "    </tr>\n",
       "    <tr>\n",
       "      <th>356</th>\n",
       "      <td>ACT-CLJ1148.0-0234</td>\n",
       "      <td>0.000984</td>\n",
       "      <td>1.509826e+14</td>\n",
       "    </tr>\n",
       "    <tr>\n",
       "      <th>369</th>\n",
       "      <td>ACT-CLJ1152.2+0031</td>\n",
       "      <td>0.001711</td>\n",
       "      <td>2.540139e+14</td>\n",
       "    </tr>\n",
       "    <tr>\n",
       "      <th>384</th>\n",
       "      <td>ACT-CLJ1203.9+0126</td>\n",
       "      <td>0.001867</td>\n",
       "      <td>-4.171616e+14</td>\n",
       "    </tr>\n",
       "    <tr>\n",
       "      <th>399</th>\n",
       "      <td>ACT-CLJ1208.3+0254</td>\n",
       "      <td>0.002198</td>\n",
       "      <td>2.933896e+14</td>\n",
       "    </tr>\n",
       "    <tr>\n",
       "      <th>413</th>\n",
       "      <td>ACT-CLJ1210.2+0223</td>\n",
       "      <td>0.000660</td>\n",
       "      <td>-5.498500e+14</td>\n",
       "    </tr>\n",
       "    <tr>\n",
       "      <th>428</th>\n",
       "      <td>ACT-CLJ1220.4-0240</td>\n",
       "      <td>0.007238</td>\n",
       "      <td>-3.837116e+14</td>\n",
       "    </tr>\n",
       "    <tr>\n",
       "      <th>441</th>\n",
       "      <td>ACT-CLJ1328.4-0038</td>\n",
       "      <td>0.001849</td>\n",
       "      <td>2.868864e+14</td>\n",
       "    </tr>\n",
       "  </tbody>\n",
       "</table>\n",
       "</div>"
      ],
      "text/plain": [
       "                cluster   amp_fit       Del_y_m\n",
       "5    ACT-CLJ0200.3+0019  0.001795  2.509092e+14\n",
       "21   ACT-CLJ0201.6-0211  0.000929 -2.984714e+14\n",
       "22   ACT-CLJ0201.6-0211  0.000731 -6.061032e+14\n",
       "45   ACT-CLJ0204.5+0321  0.004346  6.518003e+14\n",
       "70   ACT-CLJ0211.1-0453  0.001201  1.937285e+14\n",
       "107  ACT-CLJ0220.9-0332  0.002076  1.608472e+14\n",
       "127  ACT-CLJ0229.6-0336  0.002153  3.667078e+13\n",
       "161  ACT-CLJ0246.4+0429  0.000599 -1.219633e+14\n",
       "176  ACT-CLJ0248.0-0331  0.001438 -1.111167e+15\n",
       "191  ACT-CLJ0248.3-0337  0.003984  5.790325e+14\n",
       "206  ACT-CLJ0839.5-0150  0.003422  5.347906e+14\n",
       "220  ACT-CLJ0856.5+0143  0.003653  2.771509e+14\n",
       "235  ACT-CLJ0901.5+0301  0.003214  4.641127e+14\n",
       "250  ACT-CLJ0905.6+0434  0.003246 -8.491627e+14\n",
       "263  ACT-CLJ0914.7+0011  0.002761  2.237665e+14\n",
       "285  ACT-CLJ0918.7+0211  0.002651  3.282449e+14\n",
       "299  ACT-CLJ0922.1-0027  0.000615 -5.775031e+13\n",
       "311  ACT-CLJ1005.5+0235  0.000727 -6.072620e+14\n",
       "325  ACT-CLJ1117.9-0211  0.000829 -7.199109e+14\n",
       "356  ACT-CLJ1148.0-0234  0.000984  1.509826e+14\n",
       "369  ACT-CLJ1152.2+0031  0.001711  2.540139e+14\n",
       "384  ACT-CLJ1203.9+0126  0.001867 -4.171616e+14\n",
       "399  ACT-CLJ1208.3+0254  0.002198  2.933896e+14\n",
       "413  ACT-CLJ1210.2+0223  0.000660 -5.498500e+14\n",
       "428  ACT-CLJ1220.4-0240  0.007238 -3.837116e+14\n",
       "441  ACT-CLJ1328.4-0038  0.001849  2.868864e+14"
      ]
     },
     "execution_count": 13,
     "metadata": {},
     "output_type": "execute_result"
    }
   ],
   "source": [
    "out"
   ]
  },
  {
   "cell_type": "code",
   "execution_count": 14,
   "id": "401da2c3",
   "metadata": {},
   "outputs": [
    {
     "data": {
      "text/plain": [
       "<matplotlib.legend.Legend at 0x7fb6d36b0160>"
      ]
     },
     "execution_count": 14,
     "metadata": {},
     "output_type": "execute_result"
    },
    {
     "data": {
      "image/png": "[encoded data removed]",
      "text/plain": [
       "<Figure size 432x288 with 1 Axes>"
      ]
     },
     "metadata": {
      "needs_background": "light"
     },
     "output_type": "display_data"
    }
   ],
   "source": [
    "plt.hist(Del_y_all,bins=30,label=\"Blind search\")\n",
    "plt.hist(Del_y_m,bins=30,label=\"M2 sources with VLASS matches\")\n",
    "plt.legend()"
   ]
  }
 ],
 "metadata": {
  "kernelspec": {
   "display_name": "Python 3 (ipykernel)",
   "language": "python",
   "name": "python3"
  },
  "language_info": {
   "codemirror_mode": {
    "name": "ipython",
    "version": 3
   },
   "file_extension": ".py",
   "mimetype": "text/x-python",
   "name": "python",
   "nbconvert_exporter": "python",
   "pygments_lexer": "ipython3",
   "version": "3.8.11"
  }
 },
 "nbformat": 4,
 "nbformat_minor": 5
}
