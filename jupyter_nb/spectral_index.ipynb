{
 "cells": [
  {
   "cell_type": "code",
   "execution_count": 1,
   "id": "65780acd",
   "metadata": {},
   "outputs": [],
   "source": [
    "import numpy as np\n",
    "import matplotlib.pyplot as plt\n",
    "import pandas as pd"
   ]
  },
  {
   "cell_type": "code",
   "execution_count": 2,
   "id": "e6826d4c",
   "metadata": {},
   "outputs": [
    {
     "name": "stderr",
     "output_type": "stream",
     "text": [
      "/opt/anaconda3/lib/python3.8/site-packages/IPython/core/interactiveshell.py:3444: DtypeWarning: Columns (38,66,75,102,129,130,138,139,140,148,176,197,201,213,241,250,253,254,564,592,601,617,618,686,714,733,746,833) have mixed types.Specify dtype option on import or set low_memory=False.\n",
      "  exec(code_obj, self.user_global_ns, self.user_ns)\n"
     ]
    }
   ],
   "source": [
    "all_matched = pd.read_csv(\"../psrc_lists/all_matched.csv\")\n",
    "f_all_matched = all_matched.loc[(all_matched[\"theta_1\"]==2.0)&(all_matched[\"theta_2\"]==6.0)]"
   ]
  },
  {
   "cell_type": "code",
   "execution_count": 6,
   "id": "b7fbc9e8",
   "metadata": {},
   "outputs": [],
   "source": [
    "freqs = [3e9,1.4e9,76e6,84e6,92e6,99e6,107e6,115e6,122e6,130e6,143e6,151e6,158e6,166e6,174e6,181e6,189e6,197e6,204e6,212e6,220e6,150e6,144e6,2.4275e14,1.8038e14,1.3886e14,8.901e13,6.492e13,2.4813e13,1.3508e13]\n",
    "markers=[\"+\",\"s\",\"x\",\"x\",\"x\",\"x\",\"x\",\"x\",\"x\",\"x\",\"x\",\"x\",\"x\",\"x\",\"x\",\"x\",\"x\",\"x\",\"x\",\"x\",\"x\",\"v\",\"^\",\"*\",\"*\",\"*\",\"8\",\"8\",\"8\",\"8\"]\n",
    "colors = [\"orange\" for i in range(len(markers))]\n",
    "\n",
    "for i in range(len(f_all_matched)):\n",
    "    m2_flux = f_all_matched.iloc[i][\"int_flux_Jy\"]*1000\n",
    "    cat_fluxes = np.array(list(f_all_matched.iloc[i][[\"Total_flux_vlass\",\"FINT_first\",\"int_flux_076_gleam\",\"int_flux_084_gleam\",\"int_flux_092_gleam\",\"int_flux_099_gleam\",\"int_flux_107_gleam\",\"int_flux_115_gleam\",\"int_flux_122_gleam\",\"int_flux_130_gleam\",\"int_flux_143_gleam\",\"int_flux_151_gleam\",\"int_flux_158_gleam\",\"int_flux_166_gleam\",\"int_flux_174_gleam\",\"int_flux_181_gleam\",\"int_flux_189_gleam\",\"int_flux_197_gleam\",\"int_flux_204_gleam\",\"int_flux_212_gleam\",\"int_flux_220_gleam\",\"Total_flux_tgss\",\"Total_flux_lotss\",\"j_m_2mass\",\"h_m_2mass\",\"k_m_2mass\",\"w1_flux_wise\",\"w2_flux_wise\",\"w3_flux_wise\",\"w4_flux_wise\"]]))\n",
    "    if len(cat_fluxes) == np.sum(np.isnan(cat_fluxes)):\n",
    "        pass\n",
    "    else:\n",
    "        fig = plt.figure()\n",
    "        plt.scatter(90e9,m2_flux)\n",
    "        for k in range(len(freqs)):\n",
    "            plt.scatter(freqs[k],cat_fluxes[k],marker=markers[k],c=colors[k])\n",
    "        plt.xscale('log')\n",
    "        plt.yscale('log')\n",
    "        plt.xlabel(\"Frequency (Hz)\")\n",
    "        plt.ylabel(\"Flux density (mJy)\")\n",
    "        title = str(f_all_matched.iloc[i][\"cluster\"])+\"\\n RA: \"+str(f_all_matched.iloc[i][\"ra_deg\"])+\" DEC: \"+str(f_all_matched.iloc[i][\"dec_deg\"])\n",
    "        filename=str(f_all_matched.iloc[i][\"cluster\"])+\"_ra_\"+str(f_all_matched.iloc[i][\"ra_deg\"])+\"_dec_\"+str(f_all_matched.iloc[i][\"dec_deg\"])\n",
    "        plt.title(title)\n",
    "        plt.savefig(\"../sed_psrcs/\"+filename+\".png\")\n",
    "        plt.close(fig)"
   ]
  },
  {
   "cell_type": "code",
   "execution_count": null,
   "id": "d5724811",
   "metadata": {},
   "outputs": [],
   "source": []
  }
 ],
 "metadata": {
  "kernelspec": {
   "display_name": "Python 3 (ipykernel)",
   "language": "python",
   "name": "python3"
  },
  "language_info": {
   "codemirror_mode": {
    "name": "ipython",
    "version": 3
   },
   "file_extension": ".py",
   "mimetype": "text/x-python",
   "name": "python",
   "nbconvert_exporter": "python",
   "pygments_lexer": "ipython3",
   "version": "3.8.11"
  }
 },
 "nbformat": 4,
 "nbformat_minor": 5
}
