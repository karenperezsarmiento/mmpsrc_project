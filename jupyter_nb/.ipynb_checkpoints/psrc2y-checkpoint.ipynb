{
 "cells": [
  {
   "cell_type": "code",
   "execution_count": 2,
   "id": "d8e9db2a",
   "metadata": {},
   "outputs": [],
   "source": [
    "from astropy.table import QTable\n",
    "import pylab as pl\n",
    "pl.ion()\n",
    "import numpy as np\n",
    "from scipy import interpolate\n",
    "from scipy import stats\n",
    "import matplotlib.pyplot as plt\n",
    "import pandas as pd\n",
    "diag_plot = True"
   ]
  },
  {
   "cell_type": "code",
   "execution_count": 5,
   "id": "e4ac8212",
   "metadata": {},
   "outputs": [
    {
     "ename": "FileNotFoundError",
     "evalue": "[Errno 2] No such file or directory: 'sim_fits/offset_1mJy_alpha=-0.7.fits'",
     "output_type": "error",
     "traceback": [
      "\u001b[0;31m---------------------------------------------------------------------------\u001b[0m",
      "\u001b[0;31mFileNotFoundError\u001b[0m                         Traceback (most recent call last)",
      "\u001b[0;32m/var/folders/0f/q7p8w6jd62s3p62pwb9s_cbw0000gn/T/ipykernel_90566/3508098161.py\u001b[0m in \u001b[0;36m<module>\u001b[0;34m\u001b[0m\n\u001b[1;32m      3\u001b[0m \u001b[0mtSync\u001b[0m\u001b[0;34m=\u001b[0m\u001b[0mQTable\u001b[0m\u001b[0;34m.\u001b[0m\u001b[0mread\u001b[0m\u001b[0;34m(\u001b[0m\u001b[0;34m'../sim_fits/central_source_alpha=-0.7.fits'\u001b[0m\u001b[0;34m)\u001b[0m \u001b[0;31m#plot 5a, blue line Simon's paper\u001b[0m\u001b[0;34m\u001b[0m\u001b[0;34m\u001b[0m\u001b[0m\n\u001b[1;32m      4\u001b[0m \u001b[0mtDust\u001b[0m\u001b[0;34m=\u001b[0m\u001b[0mQTable\u001b[0m\u001b[0;34m.\u001b[0m\u001b[0mread\u001b[0m\u001b[0;34m(\u001b[0m\u001b[0;34m'../sim_fits/central_source_alpha=3.5.fits'\u001b[0m\u001b[0;34m)\u001b[0m \u001b[0;31m#plot 5a, red line Simon's paper\u001b[0m\u001b[0;34m\u001b[0m\u001b[0;34m\u001b[0m\u001b[0m\n\u001b[0;32m----> 5\u001b[0;31m \u001b[0mtOffset_Sync\u001b[0m\u001b[0;34m=\u001b[0m\u001b[0mQTable\u001b[0m\u001b[0;34m.\u001b[0m\u001b[0mread\u001b[0m\u001b[0;34m(\u001b[0m\u001b[0;34m'sim_fits/offset_1mJy_alpha=-0.7.fits'\u001b[0m\u001b[0;34m)\u001b[0m \u001b[0;31m#plot 5b Simon's paper\u001b[0m\u001b[0;34m\u001b[0m\u001b[0;34m\u001b[0m\u001b[0m\n\u001b[0m\u001b[1;32m      6\u001b[0m \u001b[0mtOffset_Dust\u001b[0m\u001b[0;34m=\u001b[0m\u001b[0mQTable\u001b[0m\u001b[0;34m.\u001b[0m\u001b[0mread\u001b[0m\u001b[0;34m(\u001b[0m\u001b[0;34m'sim_fits/offset_1mJy_alpha=3.5.fits'\u001b[0m\u001b[0;34m)\u001b[0m\u001b[0;31m#plot 5b Simon's paper\u001b[0m\u001b[0;34m\u001b[0m\u001b[0;34m\u001b[0m\u001b[0m\n\u001b[1;32m      7\u001b[0m \u001b[0mo0p1\u001b[0m\u001b[0;34m=\u001b[0m\u001b[0mQTable\u001b[0m\u001b[0;34m.\u001b[0m\u001b[0mread\u001b[0m\u001b[0;34m(\u001b[0m\u001b[0;34m'sim_fits/offset_0.2-mJy_alpha=0.1.fits'\u001b[0m\u001b[0;34m)\u001b[0m\u001b[0;34m\u001b[0m\u001b[0;34m\u001b[0m\u001b[0m\n",
      "\u001b[0;32m/opt/anaconda3/lib/python3.8/site-packages/astropy/table/connect.py\u001b[0m in \u001b[0;36m__call__\u001b[0;34m(self, *args, **kwargs)\u001b[0m\n\u001b[1;32m     60\u001b[0m         \u001b[0mdescriptions\u001b[0m \u001b[0;34m=\u001b[0m \u001b[0mkwargs\u001b[0m\u001b[0;34m.\u001b[0m\u001b[0mpop\u001b[0m\u001b[0;34m(\u001b[0m\u001b[0;34m'descriptions'\u001b[0m\u001b[0;34m,\u001b[0m \u001b[0;32mNone\u001b[0m\u001b[0;34m)\u001b[0m\u001b[0;34m\u001b[0m\u001b[0;34m\u001b[0m\u001b[0m\n\u001b[1;32m     61\u001b[0m \u001b[0;34m\u001b[0m\u001b[0m\n\u001b[0;32m---> 62\u001b[0;31m         \u001b[0mout\u001b[0m \u001b[0;34m=\u001b[0m \u001b[0mself\u001b[0m\u001b[0;34m.\u001b[0m\u001b[0mregistry\u001b[0m\u001b[0;34m.\u001b[0m\u001b[0mread\u001b[0m\u001b[0;34m(\u001b[0m\u001b[0mcls\u001b[0m\u001b[0;34m,\u001b[0m \u001b[0;34m*\u001b[0m\u001b[0margs\u001b[0m\u001b[0;34m,\u001b[0m \u001b[0;34m**\u001b[0m\u001b[0mkwargs\u001b[0m\u001b[0;34m)\u001b[0m\u001b[0;34m\u001b[0m\u001b[0;34m\u001b[0m\u001b[0m\n\u001b[0m\u001b[1;32m     63\u001b[0m \u001b[0;34m\u001b[0m\u001b[0m\n\u001b[1;32m     64\u001b[0m         \u001b[0;31m# For some readers (e.g., ascii.ecsv), the returned `out` class is not\u001b[0m\u001b[0;34m\u001b[0m\u001b[0;34m\u001b[0m\u001b[0;34m\u001b[0m\u001b[0m\n",
      "\u001b[0;32m/opt/anaconda3/lib/python3.8/site-packages/astropy/io/registry/core.py\u001b[0m in \u001b[0;36mread\u001b[0;34m(self, cls, format, cache, *args, **kwargs)\u001b[0m\n\u001b[1;32m    182\u001b[0m                         \u001b[0;32mtry\u001b[0m\u001b[0;34m:\u001b[0m\u001b[0;34m\u001b[0m\u001b[0;34m\u001b[0m\u001b[0m\n\u001b[1;32m    183\u001b[0m                             \u001b[0mctx\u001b[0m \u001b[0;34m=\u001b[0m \u001b[0mget_readable_fileobj\u001b[0m\u001b[0;34m(\u001b[0m\u001b[0margs\u001b[0m\u001b[0;34m[\u001b[0m\u001b[0;36m0\u001b[0m\u001b[0;34m]\u001b[0m\u001b[0;34m,\u001b[0m \u001b[0mencoding\u001b[0m\u001b[0;34m=\u001b[0m\u001b[0;34m'binary'\u001b[0m\u001b[0;34m,\u001b[0m \u001b[0mcache\u001b[0m\u001b[0;34m=\u001b[0m\u001b[0mcache\u001b[0m\u001b[0;34m)\u001b[0m\u001b[0;34m\u001b[0m\u001b[0;34m\u001b[0m\u001b[0m\n\u001b[0;32m--> 184\u001b[0;31m                             \u001b[0mfileobj\u001b[0m \u001b[0;34m=\u001b[0m \u001b[0mctx\u001b[0m\u001b[0;34m.\u001b[0m\u001b[0m__enter__\u001b[0m\u001b[0;34m(\u001b[0m\u001b[0;34m)\u001b[0m\u001b[0;34m\u001b[0m\u001b[0;34m\u001b[0m\u001b[0m\n\u001b[0m\u001b[1;32m    185\u001b[0m                         \u001b[0;32mexcept\u001b[0m \u001b[0mOSError\u001b[0m\u001b[0;34m:\u001b[0m\u001b[0;34m\u001b[0m\u001b[0;34m\u001b[0m\u001b[0m\n\u001b[1;32m    186\u001b[0m                             \u001b[0;32mraise\u001b[0m\u001b[0;34m\u001b[0m\u001b[0;34m\u001b[0m\u001b[0m\n",
      "\u001b[0;32m/opt/anaconda3/lib/python3.8/contextlib.py\u001b[0m in \u001b[0;36m__enter__\u001b[0;34m(self)\u001b[0m\n\u001b[1;32m    111\u001b[0m         \u001b[0;32mdel\u001b[0m \u001b[0mself\u001b[0m\u001b[0;34m.\u001b[0m\u001b[0margs\u001b[0m\u001b[0;34m,\u001b[0m \u001b[0mself\u001b[0m\u001b[0;34m.\u001b[0m\u001b[0mkwds\u001b[0m\u001b[0;34m,\u001b[0m \u001b[0mself\u001b[0m\u001b[0;34m.\u001b[0m\u001b[0mfunc\u001b[0m\u001b[0;34m\u001b[0m\u001b[0;34m\u001b[0m\u001b[0m\n\u001b[1;32m    112\u001b[0m         \u001b[0;32mtry\u001b[0m\u001b[0;34m:\u001b[0m\u001b[0;34m\u001b[0m\u001b[0;34m\u001b[0m\u001b[0m\n\u001b[0;32m--> 113\u001b[0;31m             \u001b[0;32mreturn\u001b[0m \u001b[0mnext\u001b[0m\u001b[0;34m(\u001b[0m\u001b[0mself\u001b[0m\u001b[0;34m.\u001b[0m\u001b[0mgen\u001b[0m\u001b[0;34m)\u001b[0m\u001b[0;34m\u001b[0m\u001b[0;34m\u001b[0m\u001b[0m\n\u001b[0m\u001b[1;32m    114\u001b[0m         \u001b[0;32mexcept\u001b[0m \u001b[0mStopIteration\u001b[0m\u001b[0;34m:\u001b[0m\u001b[0;34m\u001b[0m\u001b[0;34m\u001b[0m\u001b[0m\n\u001b[1;32m    115\u001b[0m             \u001b[0;32mraise\u001b[0m \u001b[0mRuntimeError\u001b[0m\u001b[0;34m(\u001b[0m\u001b[0;34m\"generator didn't yield\"\u001b[0m\u001b[0;34m)\u001b[0m \u001b[0;32mfrom\u001b[0m \u001b[0;32mNone\u001b[0m\u001b[0;34m\u001b[0m\u001b[0;34m\u001b[0m\u001b[0m\n",
      "\u001b[0;32m/opt/anaconda3/lib/python3.8/site-packages/astropy/utils/data.py\u001b[0m in \u001b[0;36mget_readable_fileobj\u001b[0;34m(name_or_obj, encoding, cache, show_progress, remote_timeout, sources, http_headers)\u001b[0m\n\u001b[1;32m    269\u001b[0m                 \u001b[0mtimeout\u001b[0m\u001b[0;34m=\u001b[0m\u001b[0mremote_timeout\u001b[0m\u001b[0;34m,\u001b[0m \u001b[0msources\u001b[0m\u001b[0;34m=\u001b[0m\u001b[0msources\u001b[0m\u001b[0;34m,\u001b[0m\u001b[0;34m\u001b[0m\u001b[0;34m\u001b[0m\u001b[0m\n\u001b[1;32m    270\u001b[0m                 http_headers=http_headers)\n\u001b[0;32m--> 271\u001b[0;31m         \u001b[0mfileobj\u001b[0m \u001b[0;34m=\u001b[0m \u001b[0mio\u001b[0m\u001b[0;34m.\u001b[0m\u001b[0mFileIO\u001b[0m\u001b[0;34m(\u001b[0m\u001b[0mname_or_obj\u001b[0m\u001b[0;34m,\u001b[0m \u001b[0;34m'r'\u001b[0m\u001b[0;34m)\u001b[0m\u001b[0;34m\u001b[0m\u001b[0;34m\u001b[0m\u001b[0m\n\u001b[0m\u001b[1;32m    272\u001b[0m         \u001b[0;32mif\u001b[0m \u001b[0mis_url\u001b[0m \u001b[0;32mand\u001b[0m \u001b[0;32mnot\u001b[0m \u001b[0mcache\u001b[0m\u001b[0;34m:\u001b[0m\u001b[0;34m\u001b[0m\u001b[0;34m\u001b[0m\u001b[0m\n\u001b[1;32m    273\u001b[0m             \u001b[0mdelete_fds\u001b[0m\u001b[0;34m.\u001b[0m\u001b[0mappend\u001b[0m\u001b[0;34m(\u001b[0m\u001b[0mfileobj\u001b[0m\u001b[0;34m)\u001b[0m\u001b[0;34m\u001b[0m\u001b[0;34m\u001b[0m\u001b[0m\n",
      "\u001b[0;31mFileNotFoundError\u001b[0m: [Errno 2] No such file or directory: 'sim_fits/offset_1mJy_alpha=-0.7.fits'"
     ]
    }
   ],
   "source": [
    "####read in data files........\n",
    "#talpha=QTable.read('sim_fits/alphas_1mJy_central_source.fits')\n",
    "tSync=QTable.read('../sim_fits/central_source_alpha=-0.7.fits') #plot 5a, blue line Simon's paper\n",
    "tDust=QTable.read('../sim_fits/central_source_alpha=3.5.fits') #plot 5a, red line Simon's paper\n",
    "tOffset_Sync=QTable.read('../sim_fits/offset_1mJy_alpha=-0.7.fits') #plot 5b Simon's paper\n",
    "tOffset_Dust=QTable.read('sim_fits/offset_1mJy_alpha=3.5.fits')#plot 5b Simon's paper\n",
    "o0p1=QTable.read('sim_fits/offset_0.2-mJy_alpha=0.1.fits') \n",
    "o0p7=QTable.read('sim_fits/offset_0.2-mJy_alpha=-0.7.fits')\n",
    "o3p5=QTable.read('sim_fits/offset_0.2-mJy_alpha=3.5.fits')"
   ]
  },
  {
   "cell_type": "code",
   "execution_count": 56,
   "id": "b16ee675",
   "metadata": {},
   "outputs": [],
   "source": [
    "#############################################################################\n",
    "#Bin simulations\n",
    "\n",
    "d3p5=np.unique(o3p5['offset_arcsec']) #get unique distances from center of cluster \n",
    "r3p5=np.zeros(len(d3p5))\n",
    "i3p5=np.zeros(len(d3p5))\n",
    "for i in range(len(d3p5)):\n",
    "    p=np.where((o3p5['offset_arcsec'] == d3p5[i])) #filter table by this distance\n",
    "    r3p5[i]=np.median(o3p5['srcinj_fixed_y_c'][p]-o3p5['fixed_y_c'][p]) #return median delta y\n",
    "    i3p5[i]=stats.iqr((o3p5['srcinj_fixed_y_c'][p]-o3p5['fixed_y_c'][p]),rng=(16.,84.)) / 2.   #return interquartile range\n",
    "i3p5n = i3p5 / np.abs(np.min(r3p5))\n",
    "r3p5n = r3p5 / np.abs(np.min(r3p5))\n",
    "\n",
    "d0p7=np.unique(o0p7['offset_arcsec'])\n",
    "r0p7=np.zeros(len(d0p7))\n",
    "i0p7=np.zeros(len(d0p7))\n",
    "for i in range(len(d0p7)):\n",
    "    p=np.where((o0p7['offset_arcsec'] == d0p7[i]))\n",
    "    r0p7[i]=np.median(o0p7['srcinj_fixed_y_c'][p]-o0p7['fixed_y_c'][p])\n",
    "    i0p7[i]=stats.iqr((o0p7['srcinj_fixed_y_c'][p]-o0p7['fixed_y_c'][p]),rng=(16.,84.)) / 2.\n",
    "i0p7n = i0p7 / np.abs(np.min(r0p7))\n",
    "r0p7n = r0p7 / np.abs(np.min(r0p7))\n",
    "\n",
    "d0p1=np.unique(o0p1['offset_arcsec'])\n",
    "r0p1=np.zeros(len(d0p1))\n",
    "i0p1=np.zeros(len(d0p1))\n",
    "for i in range(len(d0p1)):\n",
    "    p=np.where((o0p1['offset_arcsec'] == d0p1[i]))\n",
    "    r0p1[i]=np.median(o0p1['srcinj_fixed_y_c'][p]-o0p1['fixed_y_c'][p])\n",
    "    i0p1[i]=stats.iqr((o0p1['srcinj_fixed_y_c'][p]-o0p1['fixed_y_c'][p]),rng=(16.,84.)) / 2.\n",
    "i0p1n = i0p1 / np.abs(np.min(r0p1))\n",
    "r0p1n = r0p1 / np.abs(np.min(r0p1))"
   ]
  },
  {
   "cell_type": "code",
   "execution_count": 66,
   "id": "1964533f",
   "metadata": {},
   "outputs": [
    {
     "data": {
      "image/png": "[encoded data removed]",
      "text/plain": [
       "<Figure size 307.44x230.4 with 1 Axes>"
      ]
     },
     "metadata": {
      "needs_background": "light"
     },
     "output_type": "display_data"
    }
   ],
   "source": [
    "#fit to Mats simulations\n",
    "#note very similar results for all spectral indexes *assuming* delta y_c does not get too large.\n",
    "N_r=interpolate.CubicSpline(d0p7,-r0p7n)\n",
    "dr=np.arange(-300,310,10)\n",
    "diag_plot = True\n",
    "if diag_plot:\n",
    "    fig=pl.figure(figsize=(4.27,3.2))#pl.figure()\n",
    "    #pl.errorbar(offs,respn,yerr=iqrn,label='alpha=-0.7',color='b',marker='o')\n",
    "    #pl.errorbar(offs3p5,respn3p5,yerr=iqrn3p5,label='alpha=3.5',color='r',marker='o')\n",
    "    pl.errorbar(d0p7,-r0p7n,yerr=i0p7n,label='alpha=-0.7',color='k',marker='o',linestyle='')\n",
    "    pl.plot(dr,N_r(dr),c='k')\n",
    "    #pl.errorbar(d3p5,r3p5n,yerr=i3p5n,label='alpha=3.5',color='r',marker='o')\n",
    "    #pl.errorbar(d0p1,r0p1n,yerr=i0p1n,label='alpha=0.1',color='g',marker='o')\n",
    "    #pl.legend()\n",
    "    pl.title(r'Effects of decentering of sources',fontsize='medium')\n",
    "    pl.xlabel(r'Distance from cluster center / arcsec')\n",
    "    pl.ylabel(r'Normalized response : $N(r)$')\n",
    "    fig.tight_layout()"
   ]
  },
  {
   "cell_type": "code",
   "execution_count": 67,
   "id": "a6880f81",
   "metadata": {},
   "outputs": [
    {
     "data": {
      "image/png": "[encoded data removed]",
      "text/plain": [
       "<Figure size 307.44x230.4 with 1 Axes>"
      ]
     },
     "metadata": {
      "needs_background": "light"
     },
     "output_type": "display_data"
    }
   ],
   "source": [
    "####alphas####\n",
    "diag_plot = True\n",
    "\n",
    "delta0=-0.08756e-4 #reference everything to 1mJy at alpha=0.7\n",
    "\n",
    "alpha=np.unique(talpha['alpha'])\n",
    "A=np.zeros(len(alpha))\n",
    "Aiqr=np.zeros(len(alpha))\n",
    "for i in range(len(alpha)):\n",
    "    p=np.where((talpha['alpha'] == alpha[i]))\n",
    "    A[i]=np.median(talpha['srcinj_fixed_y_c'][p]-talpha['fixed_y_c'][p])\n",
    "    Aiqr[i]=stats.iqr((talpha['srcinj_fixed_y_c'][p]-talpha['fixed_y_c'][p]),rng=(16.,84.)) / 2.\n",
    "A_alpha=interpolate.CubicSpline(alpha,A/delta0)\n",
    "x=np.arange(-1.5,4.1,0.1)\n",
    "if diag_plot:\n",
    "    fig=pl.figure(figsize=(4.27,3.2))#pl.figure()\n",
    "    pl.errorbar(alpha,A/delta0,yerr=Aiqr/delta0,marker='o',linestyle='',color='b')\n",
    "    pl.plot(x,A_alpha(x),c='b')\n",
    "    pl.title(r'$\\Delta \\tilde{y}_0$ with spectral index',fontsize='medium')\n",
    "    pl.xlabel(r'spectral index ($\\alpha$)')\n",
    "    pl.ylabel(r'Normalized $\\Delta \\tilde{y}_0$ :  $A(\\alpha)$')\n",
    "    pl.text(-1,5,r'$A(\\alpha) = 1.0$ for $\\alpha=-0.7$')\n",
    "    fig.tight_layout()"
   ]
  },
  {
   "cell_type": "markdown",
   "id": "6591c787",
   "metadata": {},
   "source": [
    "# Applying this to M2 psrcs"
   ]
  },
  {
   "cell_type": "code",
   "execution_count": 93,
   "id": "c477c4f6",
   "metadata": {},
   "outputs": [],
   "source": [
    "psrc = pd.read_csv(\"psrc_lists/uncleaned_psrcs_sigma__2aspcmsubqm2_fitel_0f09-to-35f5Hz_qc_0p6rr_M_PdoCals_dt20_snr_iter1_4.0sigma.csv\")\n",
    "theta_1 = 3.0\n",
    "theta_2 = 5.0\n",
    "f_psrc = psrc.loc[(psrc[\"theta_1\"]==theta_1)&(psrc[\"theta_2\"]==theta_2)&(psrc[\"amp_snr\"]>4.)]\n",
    "\n",
    "matched = pd.read_csv(\"psrc_lists/matched_12arcsec_1and2_best1_vlass.csv\")\n",
    "f_matched = matched.loc[(matched[\"theta_1\"]==theta_1)&(matched[\"theta_2\"]==theta_2)&(matched[\"amp_snr\"]>4.0)]"
   ]
  },
  {
   "cell_type": "code",
   "execution_count": 1,
   "id": "7c1bc693",
   "metadata": {},
   "outputs": [
    {
     "ename": "NameError",
     "evalue": "name 'np' is not defined",
     "output_type": "error",
     "traceback": [
      "\u001b[0;31m---------------------------------------------------------------------------\u001b[0m",
      "\u001b[0;31mNameError\u001b[0m                                 Traceback (most recent call last)",
      "\u001b[0;32m/var/folders/0f/q7p8w6jd62s3p62pwb9s_cbw0000gn/T/ipykernel_90566/560098939.py\u001b[0m in \u001b[0;36m<module>\u001b[0;34m\u001b[0m\n\u001b[1;32m      1\u001b[0m \u001b[0mdelta_y0\u001b[0m \u001b[0;34m=\u001b[0m \u001b[0;34m-\u001b[0m\u001b[0;36m8.76e10\u001b[0m\u001b[0;34m-\u001b[0m\u001b[0;36m6\u001b[0m\u001b[0;34m\u001b[0m\u001b[0;34m\u001b[0m\u001b[0m\n\u001b[0;32m----> 2\u001b[0;31m \u001b[0mfluxes_mJy_all\u001b[0m \u001b[0;34m=\u001b[0m \u001b[0mnp\u001b[0m\u001b[0;34m.\u001b[0m\u001b[0marray\u001b[0m\u001b[0;34m(\u001b[0m\u001b[0mlist\u001b[0m\u001b[0;34m(\u001b[0m\u001b[0mf_psrc\u001b[0m\u001b[0;34m[\u001b[0m\u001b[0;34m\"amp_fit\"\u001b[0m\u001b[0;34m]\u001b[0m\u001b[0;34m)\u001b[0m\u001b[0;34m)\u001b[0m\u001b[0;34m*\u001b[0m\u001b[0;36m1000\u001b[0m \u001b[0;31m#mJy (Peak flux or integrated flux)\u001b[0m\u001b[0;34m\u001b[0m\u001b[0;34m\u001b[0m\u001b[0m\n\u001b[0m\u001b[1;32m      3\u001b[0m \u001b[0mdistances_all\u001b[0m \u001b[0;34m=\u001b[0m \u001b[0mnp\u001b[0m\u001b[0;34m.\u001b[0m\u001b[0marray\u001b[0m\u001b[0;34m(\u001b[0m\u001b[0mlist\u001b[0m\u001b[0;34m(\u001b[0m\u001b[0mf_psrc\u001b[0m\u001b[0;34m[\u001b[0m\u001b[0;34m\"dist_center_radians\"\u001b[0m\u001b[0;34m]\u001b[0m\u001b[0;34m)\u001b[0m\u001b[0;34m)\u001b[0m\u001b[0;34m*\u001b[0m\u001b[0;36m180\u001b[0m\u001b[0;34m/\u001b[0m\u001b[0mnp\u001b[0m\u001b[0;34m.\u001b[0m\u001b[0mpi\u001b[0m \u001b[0;34m*\u001b[0m \u001b[0;36m3600\u001b[0m \u001b[0;31m#arcsecond\u001b[0m\u001b[0;34m\u001b[0m\u001b[0;34m\u001b[0m\u001b[0m\n\u001b[1;32m      4\u001b[0m \u001b[0mDel_y_all\u001b[0m \u001b[0;34m=\u001b[0m \u001b[0mfluxes_mJy_all\u001b[0m \u001b[0;34m*\u001b[0m \u001b[0mdelta_y0\u001b[0m \u001b[0;34m*\u001b[0m \u001b[0mN_r\u001b[0m\u001b[0;34m(\u001b[0m\u001b[0mdistances_all\u001b[0m\u001b[0;34m)\u001b[0m \u001b[0;34m*\u001b[0m \u001b[0mA_alpha\u001b[0m\u001b[0;34m(\u001b[0m\u001b[0;36m0.7\u001b[0m\u001b[0;34m)\u001b[0m\u001b[0;34m\u001b[0m\u001b[0;34m\u001b[0m\u001b[0m\n\u001b[1;32m      5\u001b[0m \u001b[0;34m\u001b[0m\u001b[0m\n",
      "\u001b[0;31mNameError\u001b[0m: name 'np' is not defined"
     ]
    }
   ],
   "source": [
    "delta_y0 = -8.76e10-6\n",
    "fluxes_mJy_all = np.array(list(f_psrc[\"amp_fit\"]))*1000 #mJy (Peak flux or integrated flux)\n",
    "distances_all = np.array(list(f_psrc[\"dist_center_radians\"]))*180/np.pi * 3600 #arcsecond\n",
    "Del_y_all = fluxes_mJy_all * delta_y0 * N_r(distances_all) * A_alpha(0.7)\n",
    "\n",
    "fluxes_mJy_m = np.array(list(f_matched[\"amp_fit\"]))*1000 #mJy (Peak flux or integrated flux)\n",
    "distances_m = np.array(list(f_matched[\"dist_center_radians\"]))*180/np.pi * 3600 #arcsecond\n",
    "Del_y_m = fluxes_mJy_m * delta_y0 * N_r(distances_m) * A_alpha(-0.7)"
   ]
  },
  {
   "cell_type": "code",
   "execution_count": 98,
   "id": "401da2c3",
   "metadata": {},
   "outputs": [
    {
     "data": {
      "text/plain": [
       "<matplotlib.legend.Legend at 0x7fed6897d190>"
      ]
     },
     "execution_count": 98,
     "metadata": {},
     "output_type": "execute_result"
    },
    {
     "data": {
      "image/png": "[encoded data removed]",
      "text/plain": [
       "<Figure size 432x288 with 1 Axes>"
      ]
     },
     "metadata": {
      "needs_background": "light"
     },
     "output_type": "display_data"
    }
   ],
   "source": [
    "plt.hist(Del_y_all,bins=30,label=\"Blind search\")\n",
    "plt.hist(Del_y_m,bins=30,label=\"M2 sources with VLASS matches\")\n",
    "plt.legend()"
   ]
  },
  {
   "cell_type": "code",
   "execution_count": 99,
   "id": "62a79383",
   "metadata": {},
   "outputs": [
    {
     "data": {
      "text/plain": [
       "(array([5., 0., 2., 4., 2., 2., 3., 3., 3., 2.]),\n",
       " array([ 12.00000028,  33.78955414,  55.57910799,  77.36866185,\n",
       "         99.15821571, 120.94776957, 142.73732343, 164.52687729,\n",
       "        186.31643115, 208.105985  , 229.89553886]),\n",
       " <BarContainer object of 10 artists>)"
      ]
     },
     "execution_count": 99,
     "metadata": {},
     "output_type": "execute_result"
    },
    {
     "data": {
      "image/png": "[encoded data removed]",
      "text/plain": [
       "<Figure size 432x288 with 1 Axes>"
      ]
     },
     "metadata": {
      "needs_background": "light"
     },
     "output_type": "display_data"
    }
   ],
   "source": [
    "plt.hist(distances_all)\n",
    "plt.hist(distances_m)"
   ]
  },
  {
   "cell_type": "code",
   "execution_count": null,
   "id": "0da68426",
   "metadata": {},
   "outputs": [],
   "source": []
  }
 ],
 "metadata": {
  "kernelspec": {
   "display_name": "Python 3 (ipykernel)",
   "language": "python",
   "name": "python3"
  },
  "language_info": {
   "codemirror_mode": {
    "name": "ipython",
    "version": 3
   },
   "file_extension": ".py",
   "mimetype": "text/x-python",
   "name": "python",
   "nbconvert_exporter": "python",
   "pygments_lexer": "ipython3",
   "version": "3.8.11"
  }
 },
 "nbformat": 4,
 "nbformat_minor": 5
}
